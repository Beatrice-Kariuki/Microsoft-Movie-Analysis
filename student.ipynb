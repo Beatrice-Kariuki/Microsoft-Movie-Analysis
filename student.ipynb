{
 "cells": [
  {
   "cell_type": "markdown",
   "metadata": {},
   "source": [
    "## Final Project Submission\n",
    "\n",
    "Please fill out:\n",
    "* Student name: Beatrice Wambui Kariuki\n",
    "* Student pace: self paced / part time / full time\n",
    "* Scheduled project review date/time: \n",
    "* Instructor name: \n",
    "* Blog post URL:\n"
   ]
  },
  {
   "cell_type": "markdown",
   "metadata": {},
   "source": [
    "## Overview"
   ]
  },
  {
   "cell_type": "markdown",
   "metadata": {},
   "source": [
    "Microsoft have decided to create a new movie studio.They require more insights into which types of genres are doing best at the box office. This project uses descriptive statistical analysis on data gathered from IMDb website to gain insight into which combination of genres will be most successful in the indusry. Three seperate datasets were used for this analysis to gain insights.Correlation was checked between average ratings and no of votes and there was no signficant relationship between the two.The number of movies released in a given year was also analysed to check the trends within the given time frame.The best performing studio was the Zeit studio with the highest total gross sales and this was due to them producing the best title the return of Xander cage which propelled the studio's success.Runtime through the start years was also analysed and there was a decline in the total runtimes over the years which is a recommendation to microsoft to know the ideal lenth of movies to be produced.The best genre combination was The best genre is Animation,Mystery,Thriller with an average rating of 9.20 whereas the best genre combination is Talk-Show with an average rating of 6.42.Other recommendations that Microsoft can adopt to be able to be successful would be to stay informed about the industry,to be creative in the production of movies as this would translate to both financial and ratings success.Aligning the genre combinations with the target audience."
   ]
  },
  {
   "cell_type": "markdown",
   "metadata": {},
   "source": [
    "## Business Problem"
   ]
  },
  {
   "cell_type": "markdown",
   "metadata": {},
   "source": [
    "Microsoft sees all the big companies creating original video content and they want to get in on the fun. They have decided to create a new movie studio, but they don’t know anything about creating movies.We are expected to explore the types of films that are currently doing the best at the box office.Then translate those findings into actionable insights that the head of Microsoft's new movie studio can use to help decide what type of films to create.The data analytical questions were based on the data being analysed to provide meaningful insights to Microsoft.The questions are key and form part of both movie and financial success."
   ]
  },
  {
   "cell_type": "markdown",
   "metadata": {},
   "source": [
    "## Data Understanding"
   ]
  },
  {
   "cell_type": "markdown",
   "metadata": {},
   "source": [
    "The datasets being used are .csv files namely title.basics,title.ratings and bom.movies_gross.All the files are available in the IMDB website."
   ]
  },
  {
   "cell_type": "code",
   "execution_count": 3,
   "metadata": {},
   "outputs": [],
   "source": [
    "#importing the relevant libraries\n",
    "import pandas as pd\n",
    "import numpy as np\n",
    "import seaborn as sns\n",
    "import matplotlib.pyplot as plt\n",
    "%matplotlib inline"
   ]
  },
  {
   "cell_type": "code",
   "execution_count": 4,
   "metadata": {},
   "outputs": [
    {
     "data": {
      "text/plain": [
       "'C:\\\\Users\\\\lenovo\\\\Documents\\\\Flatiron1\\\\Phase_1\\\\dsc-phase1-project\\\\Microsoft-Movie-Analysis'"
      ]
     },
     "execution_count": 4,
     "metadata": {},
     "output_type": "execute_result"
    }
   ],
   "source": [
    "pwd"
   ]
  },
  {
   "cell_type": "markdown",
   "metadata": {},
   "source": [
    "## Movie Gross Data"
   ]
  },
  {
   "cell_type": "markdown",
   "metadata": {},
   "source": [
    "The movie gross dataset contains various records mainly the movie title,studio,the gross sales of the movie and the year of the movie "
   ]
  },
  {
   "cell_type": "code",
   "execution_count": 5,
   "metadata": {},
   "outputs": [
    {
     "data": {
      "text/html": [
       "<div>\n",
       "<style scoped>\n",
       "    .dataframe tbody tr th:only-of-type {\n",
       "        vertical-align: middle;\n",
       "    }\n",
       "\n",
       "    .dataframe tbody tr th {\n",
       "        vertical-align: top;\n",
       "    }\n",
       "\n",
       "    .dataframe thead th {\n",
       "        text-align: right;\n",
       "    }\n",
       "</style>\n",
       "<table border=\"1\" class=\"dataframe\">\n",
       "  <thead>\n",
       "    <tr style=\"text-align: right;\">\n",
       "      <th></th>\n",
       "      <th>title</th>\n",
       "      <th>studio</th>\n",
       "      <th>domestic_gross</th>\n",
       "      <th>foreign_gross</th>\n",
       "      <th>year</th>\n",
       "    </tr>\n",
       "  </thead>\n",
       "  <tbody>\n",
       "    <tr>\n",
       "      <th>0</th>\n",
       "      <td>Toy Story 3</td>\n",
       "      <td>BV</td>\n",
       "      <td>415000000.0</td>\n",
       "      <td>652000000</td>\n",
       "      <td>2010</td>\n",
       "    </tr>\n",
       "    <tr>\n",
       "      <th>1</th>\n",
       "      <td>Alice in Wonderland (2010)</td>\n",
       "      <td>BV</td>\n",
       "      <td>334200000.0</td>\n",
       "      <td>691300000</td>\n",
       "      <td>2010</td>\n",
       "    </tr>\n",
       "    <tr>\n",
       "      <th>2</th>\n",
       "      <td>Harry Potter and the Deathly Hallows Part 1</td>\n",
       "      <td>WB</td>\n",
       "      <td>296000000.0</td>\n",
       "      <td>664300000</td>\n",
       "      <td>2010</td>\n",
       "    </tr>\n",
       "    <tr>\n",
       "      <th>3</th>\n",
       "      <td>Inception</td>\n",
       "      <td>WB</td>\n",
       "      <td>292600000.0</td>\n",
       "      <td>535700000</td>\n",
       "      <td>2010</td>\n",
       "    </tr>\n",
       "    <tr>\n",
       "      <th>4</th>\n",
       "      <td>Shrek Forever After</td>\n",
       "      <td>P/DW</td>\n",
       "      <td>238700000.0</td>\n",
       "      <td>513900000</td>\n",
       "      <td>2010</td>\n",
       "    </tr>\n",
       "  </tbody>\n",
       "</table>\n",
       "</div>"
      ],
      "text/plain": [
       "                                         title studio  domestic_gross  \\\n",
       "0                                  Toy Story 3     BV     415000000.0   \n",
       "1                   Alice in Wonderland (2010)     BV     334200000.0   \n",
       "2  Harry Potter and the Deathly Hallows Part 1     WB     296000000.0   \n",
       "3                                    Inception     WB     292600000.0   \n",
       "4                          Shrek Forever After   P/DW     238700000.0   \n",
       "\n",
       "  foreign_gross  year  \n",
       "0     652000000  2010  \n",
       "1     691300000  2010  \n",
       "2     664300000  2010  \n",
       "3     535700000  2010  \n",
       "4     513900000  2010  "
      ]
     },
     "execution_count": 5,
     "metadata": {},
     "output_type": "execute_result"
    }
   ],
   "source": [
    "# load 'bom.movie_gross.csv' as a dataframe\n",
    "# copy the file path to access the file since its in a different directory\n",
    "\n",
    "movie_gross = pd.read_csv('./zippedData/bom.movie_gross.csv',encoding='utf-8')\n",
    "movie_gross.head()"
   ]
  },
  {
   "cell_type": "code",
   "execution_count": 6,
   "metadata": {},
   "outputs": [
    {
     "name": "stdout",
     "output_type": "stream",
     "text": [
      "<class 'pandas.core.frame.DataFrame'>\n",
      "RangeIndex: 3387 entries, 0 to 3386\n",
      "Data columns (total 5 columns):\n",
      " #   Column          Non-Null Count  Dtype  \n",
      "---  ------          --------------  -----  \n",
      " 0   title           3387 non-null   object \n",
      " 1   studio          3382 non-null   object \n",
      " 2   domestic_gross  3359 non-null   float64\n",
      " 3   foreign_gross   2037 non-null   object \n",
      " 4   year            3387 non-null   int64  \n",
      "dtypes: float64(1), int64(1), object(3)\n",
      "memory usage: 132.4+ KB\n"
     ]
    }
   ],
   "source": [
    "movie_gross.info()"
   ]
  },
  {
   "cell_type": "code",
   "execution_count": 7,
   "metadata": {},
   "outputs": [
    {
     "data": {
      "text/plain": [
       "(3387, 5)"
      ]
     },
     "execution_count": 7,
     "metadata": {},
     "output_type": "execute_result"
    }
   ],
   "source": [
    "movie_gross.shape"
   ]
  },
  {
   "cell_type": "code",
   "execution_count": 8,
   "metadata": {},
   "outputs": [
    {
     "data": {
      "text/html": [
       "<div>\n",
       "<style scoped>\n",
       "    .dataframe tbody tr th:only-of-type {\n",
       "        vertical-align: middle;\n",
       "    }\n",
       "\n",
       "    .dataframe tbody tr th {\n",
       "        vertical-align: top;\n",
       "    }\n",
       "\n",
       "    .dataframe thead th {\n",
       "        text-align: right;\n",
       "    }\n",
       "</style>\n",
       "<table border=\"1\" class=\"dataframe\">\n",
       "  <thead>\n",
       "    <tr style=\"text-align: right;\">\n",
       "      <th></th>\n",
       "      <th>domestic_gross</th>\n",
       "      <th>year</th>\n",
       "    </tr>\n",
       "  </thead>\n",
       "  <tbody>\n",
       "    <tr>\n",
       "      <th>count</th>\n",
       "      <td>3.359000e+03</td>\n",
       "      <td>3387.000000</td>\n",
       "    </tr>\n",
       "    <tr>\n",
       "      <th>mean</th>\n",
       "      <td>2.874585e+07</td>\n",
       "      <td>2013.958075</td>\n",
       "    </tr>\n",
       "    <tr>\n",
       "      <th>std</th>\n",
       "      <td>6.698250e+07</td>\n",
       "      <td>2.478141</td>\n",
       "    </tr>\n",
       "    <tr>\n",
       "      <th>min</th>\n",
       "      <td>1.000000e+02</td>\n",
       "      <td>2010.000000</td>\n",
       "    </tr>\n",
       "    <tr>\n",
       "      <th>25%</th>\n",
       "      <td>1.200000e+05</td>\n",
       "      <td>2012.000000</td>\n",
       "    </tr>\n",
       "    <tr>\n",
       "      <th>50%</th>\n",
       "      <td>1.400000e+06</td>\n",
       "      <td>2014.000000</td>\n",
       "    </tr>\n",
       "    <tr>\n",
       "      <th>75%</th>\n",
       "      <td>2.790000e+07</td>\n",
       "      <td>2016.000000</td>\n",
       "    </tr>\n",
       "    <tr>\n",
       "      <th>max</th>\n",
       "      <td>9.367000e+08</td>\n",
       "      <td>2018.000000</td>\n",
       "    </tr>\n",
       "  </tbody>\n",
       "</table>\n",
       "</div>"
      ],
      "text/plain": [
       "       domestic_gross         year\n",
       "count    3.359000e+03  3387.000000\n",
       "mean     2.874585e+07  2013.958075\n",
       "std      6.698250e+07     2.478141\n",
       "min      1.000000e+02  2010.000000\n",
       "25%      1.200000e+05  2012.000000\n",
       "50%      1.400000e+06  2014.000000\n",
       "75%      2.790000e+07  2016.000000\n",
       "max      9.367000e+08  2018.000000"
      ]
     },
     "execution_count": 8,
     "metadata": {},
     "output_type": "execute_result"
    }
   ],
   "source": [
    "movie_gross.describe()"
   ]
  },
  {
   "cell_type": "code",
   "execution_count": 9,
   "metadata": {},
   "outputs": [
    {
     "data": {
      "text/plain": [
       "dtype('O')"
      ]
     },
     "execution_count": 9,
     "metadata": {},
     "output_type": "execute_result"
    }
   ],
   "source": [
    "movie_gross['foreign_gross'].dtype"
   ]
  },
  {
   "cell_type": "code",
   "execution_count": 10,
   "metadata": {},
   "outputs": [
    {
     "data": {
      "text/plain": [
       "1204"
      ]
     },
     "execution_count": 10,
     "metadata": {},
     "output_type": "execute_result"
    }
   ],
   "source": [
    "movie_gross['foreign_gross'].nunique()"
   ]
  },
  {
   "cell_type": "markdown",
   "metadata": {},
   "source": [
    "## The Title Basics Data"
   ]
  },
  {
   "cell_type": "markdown",
   "metadata": {},
   "source": [
    "The title basic dataset contains records of the movie primary and original titles,the start year the runtime(mins),genres and tconst which is a unique identifier for titles in the IDMb database hence making referencing easier when searching for movies."
   ]
  },
  {
   "cell_type": "code",
   "execution_count": 11,
   "metadata": {},
   "outputs": [
    {
     "data": {
      "text/html": [
       "<div>\n",
       "<style scoped>\n",
       "    .dataframe tbody tr th:only-of-type {\n",
       "        vertical-align: middle;\n",
       "    }\n",
       "\n",
       "    .dataframe tbody tr th {\n",
       "        vertical-align: top;\n",
       "    }\n",
       "\n",
       "    .dataframe thead th {\n",
       "        text-align: right;\n",
       "    }\n",
       "</style>\n",
       "<table border=\"1\" class=\"dataframe\">\n",
       "  <thead>\n",
       "    <tr style=\"text-align: right;\">\n",
       "      <th></th>\n",
       "      <th>tconst</th>\n",
       "      <th>primary_title</th>\n",
       "      <th>original_title</th>\n",
       "      <th>start_year</th>\n",
       "      <th>runtime_minutes</th>\n",
       "      <th>genres</th>\n",
       "    </tr>\n",
       "  </thead>\n",
       "  <tbody>\n",
       "    <tr>\n",
       "      <th>0</th>\n",
       "      <td>tt0063540</td>\n",
       "      <td>Sunghursh</td>\n",
       "      <td>Sunghursh</td>\n",
       "      <td>2013</td>\n",
       "      <td>175.0</td>\n",
       "      <td>Action,Crime,Drama</td>\n",
       "    </tr>\n",
       "    <tr>\n",
       "      <th>1</th>\n",
       "      <td>tt0066787</td>\n",
       "      <td>One Day Before the Rainy Season</td>\n",
       "      <td>Ashad Ka Ek Din</td>\n",
       "      <td>2019</td>\n",
       "      <td>114.0</td>\n",
       "      <td>Biography,Drama</td>\n",
       "    </tr>\n",
       "    <tr>\n",
       "      <th>2</th>\n",
       "      <td>tt0069049</td>\n",
       "      <td>The Other Side of the Wind</td>\n",
       "      <td>The Other Side of the Wind</td>\n",
       "      <td>2018</td>\n",
       "      <td>122.0</td>\n",
       "      <td>Drama</td>\n",
       "    </tr>\n",
       "    <tr>\n",
       "      <th>3</th>\n",
       "      <td>tt0069204</td>\n",
       "      <td>Sabse Bada Sukh</td>\n",
       "      <td>Sabse Bada Sukh</td>\n",
       "      <td>2018</td>\n",
       "      <td>NaN</td>\n",
       "      <td>Comedy,Drama</td>\n",
       "    </tr>\n",
       "    <tr>\n",
       "      <th>4</th>\n",
       "      <td>tt0100275</td>\n",
       "      <td>The Wandering Soap Opera</td>\n",
       "      <td>La Telenovela Errante</td>\n",
       "      <td>2017</td>\n",
       "      <td>80.0</td>\n",
       "      <td>Comedy,Drama,Fantasy</td>\n",
       "    </tr>\n",
       "  </tbody>\n",
       "</table>\n",
       "</div>"
      ],
      "text/plain": [
       "      tconst                    primary_title              original_title  \\\n",
       "0  tt0063540                        Sunghursh                   Sunghursh   \n",
       "1  tt0066787  One Day Before the Rainy Season             Ashad Ka Ek Din   \n",
       "2  tt0069049       The Other Side of the Wind  The Other Side of the Wind   \n",
       "3  tt0069204                  Sabse Bada Sukh             Sabse Bada Sukh   \n",
       "4  tt0100275         The Wandering Soap Opera       La Telenovela Errante   \n",
       "\n",
       "   start_year  runtime_minutes                genres  \n",
       "0        2013            175.0    Action,Crime,Drama  \n",
       "1        2019            114.0       Biography,Drama  \n",
       "2        2018            122.0                 Drama  \n",
       "3        2018              NaN          Comedy,Drama  \n",
       "4        2017             80.0  Comedy,Drama,Fantasy  "
      ]
     },
     "execution_count": 11,
     "metadata": {},
     "output_type": "execute_result"
    }
   ],
   "source": [
    "# load 'title.basics.csv' as a dataframe\n",
    "# copy the file path to access the file since its in a different directory\n",
    "\n",
    "title_basics = pd.read_csv('./zippedData/title.basics.csv',encoding='utf-8')\n",
    "title_basics.head()"
   ]
  },
  {
   "cell_type": "code",
   "execution_count": 12,
   "metadata": {},
   "outputs": [
    {
     "name": "stdout",
     "output_type": "stream",
     "text": [
      "<class 'pandas.core.frame.DataFrame'>\n",
      "RangeIndex: 146144 entries, 0 to 146143\n",
      "Data columns (total 6 columns):\n",
      " #   Column           Non-Null Count   Dtype  \n",
      "---  ------           --------------   -----  \n",
      " 0   tconst           146144 non-null  object \n",
      " 1   primary_title    146143 non-null  object \n",
      " 2   original_title   146122 non-null  object \n",
      " 3   start_year       146144 non-null  int64  \n",
      " 4   runtime_minutes  114405 non-null  float64\n",
      " 5   genres           140736 non-null  object \n",
      "dtypes: float64(1), int64(1), object(4)\n",
      "memory usage: 6.7+ MB\n"
     ]
    }
   ],
   "source": [
    "title_basics.info()"
   ]
  },
  {
   "cell_type": "code",
   "execution_count": 13,
   "metadata": {},
   "outputs": [
    {
     "data": {
      "text/plain": [
       "(146144, 6)"
      ]
     },
     "execution_count": 13,
     "metadata": {},
     "output_type": "execute_result"
    }
   ],
   "source": [
    "title_basics.shape"
   ]
  },
  {
   "cell_type": "markdown",
   "metadata": {},
   "source": [
    "## The Title Ratings Data"
   ]
  },
  {
   "cell_type": "markdown",
   "metadata": {},
   "source": [
    "The title ratings dataset contains records of tconst,average rating and number of votes of movies"
   ]
  },
  {
   "cell_type": "code",
   "execution_count": 14,
   "metadata": {},
   "outputs": [
    {
     "data": {
      "text/html": [
       "<div>\n",
       "<style scoped>\n",
       "    .dataframe tbody tr th:only-of-type {\n",
       "        vertical-align: middle;\n",
       "    }\n",
       "\n",
       "    .dataframe tbody tr th {\n",
       "        vertical-align: top;\n",
       "    }\n",
       "\n",
       "    .dataframe thead th {\n",
       "        text-align: right;\n",
       "    }\n",
       "</style>\n",
       "<table border=\"1\" class=\"dataframe\">\n",
       "  <thead>\n",
       "    <tr style=\"text-align: right;\">\n",
       "      <th></th>\n",
       "      <th>tconst</th>\n",
       "      <th>averagerating</th>\n",
       "      <th>numvotes</th>\n",
       "    </tr>\n",
       "  </thead>\n",
       "  <tbody>\n",
       "    <tr>\n",
       "      <th>0</th>\n",
       "      <td>tt10356526</td>\n",
       "      <td>8.3</td>\n",
       "      <td>31</td>\n",
       "    </tr>\n",
       "    <tr>\n",
       "      <th>1</th>\n",
       "      <td>tt10384606</td>\n",
       "      <td>8.9</td>\n",
       "      <td>559</td>\n",
       "    </tr>\n",
       "    <tr>\n",
       "      <th>2</th>\n",
       "      <td>tt1042974</td>\n",
       "      <td>6.4</td>\n",
       "      <td>20</td>\n",
       "    </tr>\n",
       "    <tr>\n",
       "      <th>3</th>\n",
       "      <td>tt1043726</td>\n",
       "      <td>4.2</td>\n",
       "      <td>50352</td>\n",
       "    </tr>\n",
       "    <tr>\n",
       "      <th>4</th>\n",
       "      <td>tt1060240</td>\n",
       "      <td>6.5</td>\n",
       "      <td>21</td>\n",
       "    </tr>\n",
       "  </tbody>\n",
       "</table>\n",
       "</div>"
      ],
      "text/plain": [
       "       tconst  averagerating  numvotes\n",
       "0  tt10356526            8.3        31\n",
       "1  tt10384606            8.9       559\n",
       "2   tt1042974            6.4        20\n",
       "3   tt1043726            4.2     50352\n",
       "4   tt1060240            6.5        21"
      ]
     },
     "execution_count": 14,
     "metadata": {},
     "output_type": "execute_result"
    }
   ],
   "source": [
    "# load 'title.ratings.csv' as a dataframe\n",
    "# copy the file path to access the file since its in a different directory\n",
    "\n",
    "title_ratings= pd.read_csv('./zippedData/title.ratings.csv',encoding='utf-8')\n",
    "title_ratings.head()"
   ]
  },
  {
   "cell_type": "code",
   "execution_count": 15,
   "metadata": {},
   "outputs": [
    {
     "name": "stdout",
     "output_type": "stream",
     "text": [
      "<class 'pandas.core.frame.DataFrame'>\n",
      "RangeIndex: 73856 entries, 0 to 73855\n",
      "Data columns (total 3 columns):\n",
      " #   Column         Non-Null Count  Dtype  \n",
      "---  ------         --------------  -----  \n",
      " 0   tconst         73856 non-null  object \n",
      " 1   averagerating  73856 non-null  float64\n",
      " 2   numvotes       73856 non-null  int64  \n",
      "dtypes: float64(1), int64(1), object(1)\n",
      "memory usage: 1.7+ MB\n"
     ]
    }
   ],
   "source": [
    "title_ratings.info()"
   ]
  },
  {
   "cell_type": "code",
   "execution_count": 16,
   "metadata": {},
   "outputs": [
    {
     "data": {
      "text/plain": [
       "(73856, 3)"
      ]
     },
     "execution_count": 16,
     "metadata": {},
     "output_type": "execute_result"
    }
   ],
   "source": [
    "title_ratings.shape"
   ]
  },
  {
   "cell_type": "markdown",
   "metadata": {},
   "source": [
    "## Data Cleaning"
   ]
  },
  {
   "cell_type": "markdown",
   "metadata": {},
   "source": [
    "**Movie_gross Data**"
   ]
  },
  {
   "cell_type": "code",
   "execution_count": 17,
   "metadata": {},
   "outputs": [
    {
     "name": "stdout",
     "output_type": "stream",
     "text": [
      "<class 'pandas.core.frame.DataFrame'>\n",
      "RangeIndex: 3387 entries, 0 to 3386\n",
      "Data columns (total 5 columns):\n",
      " #   Column          Non-Null Count  Dtype  \n",
      "---  ------          --------------  -----  \n",
      " 0   title           3387 non-null   object \n",
      " 1   studio          3382 non-null   object \n",
      " 2   domestic_gross  3359 non-null   float64\n",
      " 3   foreign_gross   2037 non-null   object \n",
      " 4   year            3387 non-null   int64  \n",
      "dtypes: float64(1), int64(1), object(3)\n",
      "memory usage: 132.4+ KB\n"
     ]
    }
   ],
   "source": [
    "movie_gross.info()"
   ]
  },
  {
   "cell_type": "code",
   "execution_count": 18,
   "metadata": {},
   "outputs": [
    {
     "data": {
      "text/plain": [
       "0"
      ]
     },
     "execution_count": 18,
     "metadata": {},
     "output_type": "execute_result"
    }
   ],
   "source": [
    "# summing up the no of duplicate records in the dataset\n",
    "movie_gross.duplicated().sum()"
   ]
  },
  {
   "cell_type": "code",
   "execution_count": 19,
   "metadata": {},
   "outputs": [
    {
     "data": {
      "text/plain": [
       "title                0\n",
       "studio               5\n",
       "domestic_gross      28\n",
       "foreign_gross     1350\n",
       "year                 0\n",
       "dtype: int64"
      ]
     },
     "execution_count": 19,
     "metadata": {},
     "output_type": "execute_result"
    }
   ],
   "source": [
    "# checking for sum of null values in the columns within in the dataset\n",
    "movie_gross.isna().sum()"
   ]
  },
  {
   "cell_type": "markdown",
   "metadata": {},
   "source": [
    "Depending on the nature of your data,handling missing values,common strategies are:\n",
    "1.Removing rows with missing values.\n",
    "2.Filling missing values with a specific value (e.g., mean, median, or mode)."
   ]
  },
  {
   "cell_type": "code",
   "execution_count": 20,
   "metadata": {},
   "outputs": [
    {
     "data": {
      "text/html": [
       "<div>\n",
       "<style scoped>\n",
       "    .dataframe tbody tr th:only-of-type {\n",
       "        vertical-align: middle;\n",
       "    }\n",
       "\n",
       "    .dataframe tbody tr th {\n",
       "        vertical-align: top;\n",
       "    }\n",
       "\n",
       "    .dataframe thead th {\n",
       "        text-align: right;\n",
       "    }\n",
       "</style>\n",
       "<table border=\"1\" class=\"dataframe\">\n",
       "  <thead>\n",
       "    <tr style=\"text-align: right;\">\n",
       "      <th></th>\n",
       "      <th>title</th>\n",
       "      <th>studio</th>\n",
       "      <th>domestic_gross</th>\n",
       "      <th>foreign_gross</th>\n",
       "      <th>year</th>\n",
       "    </tr>\n",
       "  </thead>\n",
       "  <tbody>\n",
       "    <tr>\n",
       "      <th>210</th>\n",
       "      <td>Outside the Law (Hors-la-loi)</td>\n",
       "      <td>NaN</td>\n",
       "      <td>96900.0</td>\n",
       "      <td>3300000</td>\n",
       "      <td>2010</td>\n",
       "    </tr>\n",
       "    <tr>\n",
       "      <th>222</th>\n",
       "      <td>Flipped</td>\n",
       "      <td>WB</td>\n",
       "      <td>1800000.0</td>\n",
       "      <td>NaN</td>\n",
       "      <td>2010</td>\n",
       "    </tr>\n",
       "    <tr>\n",
       "      <th>230</th>\n",
       "      <td>It's a Wonderful Afterlife</td>\n",
       "      <td>UTV</td>\n",
       "      <td>NaN</td>\n",
       "      <td>1300000</td>\n",
       "      <td>2010</td>\n",
       "    </tr>\n",
       "    <tr>\n",
       "      <th>254</th>\n",
       "      <td>The Polar Express (IMAX re-issue 2010)</td>\n",
       "      <td>WB</td>\n",
       "      <td>673000.0</td>\n",
       "      <td>NaN</td>\n",
       "      <td>2010</td>\n",
       "    </tr>\n",
       "    <tr>\n",
       "      <th>267</th>\n",
       "      <td>Tiny Furniture</td>\n",
       "      <td>IFC</td>\n",
       "      <td>392000.0</td>\n",
       "      <td>NaN</td>\n",
       "      <td>2010</td>\n",
       "    </tr>\n",
       "    <tr>\n",
       "      <th>...</th>\n",
       "      <td>...</td>\n",
       "      <td>...</td>\n",
       "      <td>...</td>\n",
       "      <td>...</td>\n",
       "      <td>...</td>\n",
       "    </tr>\n",
       "    <tr>\n",
       "      <th>3382</th>\n",
       "      <td>The Quake</td>\n",
       "      <td>Magn.</td>\n",
       "      <td>6200.0</td>\n",
       "      <td>NaN</td>\n",
       "      <td>2018</td>\n",
       "    </tr>\n",
       "    <tr>\n",
       "      <th>3383</th>\n",
       "      <td>Edward II (2018 re-release)</td>\n",
       "      <td>FM</td>\n",
       "      <td>4800.0</td>\n",
       "      <td>NaN</td>\n",
       "      <td>2018</td>\n",
       "    </tr>\n",
       "    <tr>\n",
       "      <th>3384</th>\n",
       "      <td>El Pacto</td>\n",
       "      <td>Sony</td>\n",
       "      <td>2500.0</td>\n",
       "      <td>NaN</td>\n",
       "      <td>2018</td>\n",
       "    </tr>\n",
       "    <tr>\n",
       "      <th>3385</th>\n",
       "      <td>The Swan</td>\n",
       "      <td>Synergetic</td>\n",
       "      <td>2400.0</td>\n",
       "      <td>NaN</td>\n",
       "      <td>2018</td>\n",
       "    </tr>\n",
       "    <tr>\n",
       "      <th>3386</th>\n",
       "      <td>An Actor Prepares</td>\n",
       "      <td>Grav.</td>\n",
       "      <td>1700.0</td>\n",
       "      <td>NaN</td>\n",
       "      <td>2018</td>\n",
       "    </tr>\n",
       "  </tbody>\n",
       "</table>\n",
       "<p>1380 rows × 5 columns</p>\n",
       "</div>"
      ],
      "text/plain": [
       "                                       title      studio  domestic_gross  \\\n",
       "210            Outside the Law (Hors-la-loi)         NaN         96900.0   \n",
       "222                                  Flipped          WB       1800000.0   \n",
       "230               It's a Wonderful Afterlife         UTV             NaN   \n",
       "254   The Polar Express (IMAX re-issue 2010)          WB        673000.0   \n",
       "267                           Tiny Furniture         IFC        392000.0   \n",
       "...                                      ...         ...             ...   \n",
       "3382                               The Quake       Magn.          6200.0   \n",
       "3383             Edward II (2018 re-release)          FM          4800.0   \n",
       "3384                                El Pacto        Sony          2500.0   \n",
       "3385                                The Swan  Synergetic          2400.0   \n",
       "3386                       An Actor Prepares       Grav.          1700.0   \n",
       "\n",
       "     foreign_gross  year  \n",
       "210        3300000  2010  \n",
       "222            NaN  2010  \n",
       "230        1300000  2010  \n",
       "254            NaN  2010  \n",
       "267            NaN  2010  \n",
       "...            ...   ...  \n",
       "3382           NaN  2018  \n",
       "3383           NaN  2018  \n",
       "3384           NaN  2018  \n",
       "3385           NaN  2018  \n",
       "3386           NaN  2018  \n",
       "\n",
       "[1380 rows x 5 columns]"
      ]
     },
     "execution_count": 20,
     "metadata": {},
     "output_type": "execute_result"
    }
   ],
   "source": [
    "# checking for the records with the NaN values\n",
    "missing_rows = movie_gross[movie_gross.isna().any(axis=1)]\n",
    "missing_rows"
   ]
  },
  {
   "cell_type": "code",
   "execution_count": 21,
   "metadata": {},
   "outputs": [
    {
     "data": {
      "text/html": [
       "<div>\n",
       "<style scoped>\n",
       "    .dataframe tbody tr th:only-of-type {\n",
       "        vertical-align: middle;\n",
       "    }\n",
       "\n",
       "    .dataframe tbody tr th {\n",
       "        vertical-align: top;\n",
       "    }\n",
       "\n",
       "    .dataframe thead th {\n",
       "        text-align: right;\n",
       "    }\n",
       "</style>\n",
       "<table border=\"1\" class=\"dataframe\">\n",
       "  <thead>\n",
       "    <tr style=\"text-align: right;\">\n",
       "      <th></th>\n",
       "      <th>index</th>\n",
       "      <th>Missing Values</th>\n",
       "      <th>Percentage</th>\n",
       "    </tr>\n",
       "  </thead>\n",
       "  <tbody>\n",
       "    <tr>\n",
       "      <th>1</th>\n",
       "      <td>studio</td>\n",
       "      <td>5</td>\n",
       "      <td>0.001476</td>\n",
       "    </tr>\n",
       "    <tr>\n",
       "      <th>2</th>\n",
       "      <td>domestic_gross</td>\n",
       "      <td>28</td>\n",
       "      <td>0.008267</td>\n",
       "    </tr>\n",
       "    <tr>\n",
       "      <th>3</th>\n",
       "      <td>foreign_gross</td>\n",
       "      <td>1350</td>\n",
       "      <td>0.398583</td>\n",
       "    </tr>\n",
       "  </tbody>\n",
       "</table>\n",
       "</div>"
      ],
      "text/plain": [
       "            index  Missing Values  Percentage\n",
       "1          studio               5    0.001476\n",
       "2  domestic_gross              28    0.008267\n",
       "3   foreign_gross            1350    0.398583"
      ]
     },
     "execution_count": 21,
     "metadata": {},
     "output_type": "execute_result"
    }
   ],
   "source": [
    "def missing_values(movie_gross):\n",
    "    \"\"\"A simple function to identify data has missing values\"\"\"\n",
    "    # identify the total missing values per column\n",
    "    miss = movie_gross.isna().sum()\n",
    "\n",
    "    # calculate percentage of the missing values\n",
    "    percentage_miss = (movie_gross.isna().sum() / len(movie_gross))\n",
    "\n",
    "    # creating a dataframe 'missing'\n",
    "    missing = pd.DataFrame({\"Missing Values\": miss, \"Percentage\": percentage_miss}).reset_index()\n",
    "\n",
    "    # remove values that are missing\n",
    "    missing.drop(missing[missing[\"Percentage\"] == 0].index, inplace = True)\n",
    "\n",
    "    return missing\n",
    "\n",
    "\n",
    "missing_data = missing_values(movie_gross)\n",
    "missing_data"
   ]
  },
  {
   "cell_type": "code",
   "execution_count": 22,
   "metadata": {},
   "outputs": [],
   "source": [
    "# Drop the the necessary columns based on the analysis needed.In this case i choose to fill \n",
    "# 1.The NaN values the column studioincase i would need to do an analysis of the studio vs rating reviews.\n",
    "# 2.Fill the NaN values of both the domestic_gross and foreign_gross with the mean values "
   ]
  },
  {
   "cell_type": "code",
   "execution_count": 23,
   "metadata": {},
   "outputs": [
    {
     "data": {
      "text/plain": [
       "title                0\n",
       "studio               0\n",
       "domestic_gross      28\n",
       "foreign_gross     1350\n",
       "year                 0\n",
       "dtype: int64"
      ]
     },
     "execution_count": 23,
     "metadata": {},
     "output_type": "execute_result"
    }
   ],
   "source": [
    "movie_gross['studio'].fillna('Unknown', inplace=True)\n",
    "movie_gross.isna().sum()"
   ]
  },
  {
   "cell_type": "code",
   "execution_count": 24,
   "metadata": {},
   "outputs": [
    {
     "data": {
      "text/plain": [
       "title                0\n",
       "studio               0\n",
       "domestic_gross       0\n",
       "foreign_gross     1350\n",
       "year                 0\n",
       "dtype: int64"
      ]
     },
     "execution_count": 24,
     "metadata": {},
     "output_type": "execute_result"
    }
   ],
   "source": [
    "# Before filling the NaN values with the mean of the column,its best to replace the NaN values with zero\n",
    "movie_gross['domestic_gross'] = movie_gross['domestic_gross'].replace(np.nan, 0)\n",
    "movie_gross['domestic_gross'] = movie_gross['domestic_gross'].astype(int)\n",
    "movie_gross['domestic_gross'] = movie_gross['domestic_gross'].replace(0,movie_gross['domestic_gross'].mean())\n",
    "movie_gross.isna().sum()"
   ]
  },
  {
   "cell_type": "code",
   "execution_count": 25,
   "metadata": {},
   "outputs": [
    {
     "data": {
      "text/plain": [
       "dtype('float64')"
      ]
     },
     "execution_count": 25,
     "metadata": {},
     "output_type": "execute_result"
    }
   ],
   "source": [
    "movie_gross['domestic_gross'].dtype"
   ]
  },
  {
   "cell_type": "code",
   "execution_count": 26,
   "metadata": {},
   "outputs": [
    {
     "data": {
      "text/plain": [
       "title             0\n",
       "studio            0\n",
       "domestic_gross    0\n",
       "foreign_gross     0\n",
       "year              0\n",
       "dtype: int64"
      ]
     },
     "execution_count": 26,
     "metadata": {},
     "output_type": "execute_result"
    }
   ],
   "source": [
    "movie_gross['foreign_gross'] = movie_gross['foreign_gross'].str.replace(\",\",\"\")\n",
    "movie_gross['foreign_gross'] = movie_gross['foreign_gross'].replace(np.nan, 0)\n",
    "movie_gross['foreign_gross'] = movie_gross['foreign_gross'].astype('float64')\n",
    "movie_gross['foreign_gross'] = movie_gross['foreign_gross'].replace(0,movie_gross['foreign_gross'].mean())\n",
    "movie_gross.isna().sum()"
   ]
  },
  {
   "cell_type": "code",
   "execution_count": 27,
   "metadata": {},
   "outputs": [
    {
     "data": {
      "text/plain": [
       "dtype('float64')"
      ]
     },
     "execution_count": 27,
     "metadata": {},
     "output_type": "execute_result"
    }
   ],
   "source": [
    "movie_gross['foreign_gross'].dtype"
   ]
  },
  {
   "cell_type": "code",
   "execution_count": 28,
   "metadata": {},
   "outputs": [
    {
     "name": "stdout",
     "output_type": "stream",
     "text": [
      "<class 'pandas.core.frame.DataFrame'>\n",
      "RangeIndex: 3387 entries, 0 to 3386\n",
      "Data columns (total 5 columns):\n",
      " #   Column          Non-Null Count  Dtype  \n",
      "---  ------          --------------  -----  \n",
      " 0   title           3387 non-null   object \n",
      " 1   studio          3387 non-null   object \n",
      " 2   domestic_gross  3387 non-null   float64\n",
      " 3   foreign_gross   3387 non-null   float64\n",
      " 4   year            3387 non-null   int64  \n",
      "dtypes: float64(2), int64(1), object(2)\n",
      "memory usage: 132.4+ KB\n"
     ]
    }
   ],
   "source": [
    "movie_gross.info()"
   ]
  },
  {
   "cell_type": "code",
   "execution_count": 29,
   "metadata": {},
   "outputs": [
    {
     "data": {
      "text/html": [
       "<div>\n",
       "<style scoped>\n",
       "    .dataframe tbody tr th:only-of-type {\n",
       "        vertical-align: middle;\n",
       "    }\n",
       "\n",
       "    .dataframe tbody tr th {\n",
       "        vertical-align: top;\n",
       "    }\n",
       "\n",
       "    .dataframe thead th {\n",
       "        text-align: right;\n",
       "    }\n",
       "</style>\n",
       "<table border=\"1\" class=\"dataframe\">\n",
       "  <thead>\n",
       "    <tr style=\"text-align: right;\">\n",
       "      <th></th>\n",
       "      <th>domestic_gross</th>\n",
       "      <th>foreign_gross</th>\n",
       "      <th>year</th>\n",
       "    </tr>\n",
       "  </thead>\n",
       "  <tbody>\n",
       "    <tr>\n",
       "      <th>count</th>\n",
       "      <td>3.387000e+03</td>\n",
       "      <td>3.387000e+03</td>\n",
       "      <td>3387.000000</td>\n",
       "    </tr>\n",
       "    <tr>\n",
       "      <th>mean</th>\n",
       "      <td>2.874388e+07</td>\n",
       "      <td>6.297790e+07</td>\n",
       "      <td>2013.958075</td>\n",
       "    </tr>\n",
       "    <tr>\n",
       "      <th>std</th>\n",
       "      <td>6.670498e+07</td>\n",
       "      <td>1.075504e+08</td>\n",
       "      <td>2.478141</td>\n",
       "    </tr>\n",
       "    <tr>\n",
       "      <th>min</th>\n",
       "      <td>1.000000e+02</td>\n",
       "      <td>6.000000e+02</td>\n",
       "      <td>2010.000000</td>\n",
       "    </tr>\n",
       "    <tr>\n",
       "      <th>25%</th>\n",
       "      <td>1.225000e+05</td>\n",
       "      <td>1.160000e+07</td>\n",
       "      <td>2012.000000</td>\n",
       "    </tr>\n",
       "    <tr>\n",
       "      <th>50%</th>\n",
       "      <td>1.400000e+06</td>\n",
       "      <td>4.502979e+07</td>\n",
       "      <td>2014.000000</td>\n",
       "    </tr>\n",
       "    <tr>\n",
       "      <th>75%</th>\n",
       "      <td>2.850821e+07</td>\n",
       "      <td>4.502979e+07</td>\n",
       "      <td>2016.000000</td>\n",
       "    </tr>\n",
       "    <tr>\n",
       "      <th>max</th>\n",
       "      <td>9.367000e+08</td>\n",
       "      <td>9.605000e+08</td>\n",
       "      <td>2018.000000</td>\n",
       "    </tr>\n",
       "  </tbody>\n",
       "</table>\n",
       "</div>"
      ],
      "text/plain": [
       "       domestic_gross  foreign_gross         year\n",
       "count    3.387000e+03   3.387000e+03  3387.000000\n",
       "mean     2.874388e+07   6.297790e+07  2013.958075\n",
       "std      6.670498e+07   1.075504e+08     2.478141\n",
       "min      1.000000e+02   6.000000e+02  2010.000000\n",
       "25%      1.225000e+05   1.160000e+07  2012.000000\n",
       "50%      1.400000e+06   4.502979e+07  2014.000000\n",
       "75%      2.850821e+07   4.502979e+07  2016.000000\n",
       "max      9.367000e+08   9.605000e+08  2018.000000"
      ]
     },
     "execution_count": 29,
     "metadata": {},
     "output_type": "execute_result"
    }
   ],
   "source": [
    "movie_gross.describe()"
   ]
  },
  {
   "cell_type": "code",
   "execution_count": 30,
   "metadata": {},
   "outputs": [
    {
     "data": {
      "text/html": [
       "<div>\n",
       "<style scoped>\n",
       "    .dataframe tbody tr th:only-of-type {\n",
       "        vertical-align: middle;\n",
       "    }\n",
       "\n",
       "    .dataframe tbody tr th {\n",
       "        vertical-align: top;\n",
       "    }\n",
       "\n",
       "    .dataframe thead th {\n",
       "        text-align: right;\n",
       "    }\n",
       "</style>\n",
       "<table border=\"1\" class=\"dataframe\">\n",
       "  <thead>\n",
       "    <tr style=\"text-align: right;\">\n",
       "      <th></th>\n",
       "      <th>title</th>\n",
       "      <th>studio</th>\n",
       "      <th>domestic_gross</th>\n",
       "      <th>foreign_gross</th>\n",
       "      <th>year</th>\n",
       "      <th>Total_gross</th>\n",
       "    </tr>\n",
       "  </thead>\n",
       "  <tbody>\n",
       "    <tr>\n",
       "      <th>0</th>\n",
       "      <td>Toy Story 3</td>\n",
       "      <td>BV</td>\n",
       "      <td>415000000.0</td>\n",
       "      <td>652000000.0</td>\n",
       "      <td>2010</td>\n",
       "      <td>1.067000e+09</td>\n",
       "    </tr>\n",
       "    <tr>\n",
       "      <th>1</th>\n",
       "      <td>Alice in Wonderland (2010)</td>\n",
       "      <td>BV</td>\n",
       "      <td>334200000.0</td>\n",
       "      <td>691300000.0</td>\n",
       "      <td>2010</td>\n",
       "      <td>1.025500e+09</td>\n",
       "    </tr>\n",
       "    <tr>\n",
       "      <th>2</th>\n",
       "      <td>Harry Potter and the Deathly Hallows Part 1</td>\n",
       "      <td>WB</td>\n",
       "      <td>296000000.0</td>\n",
       "      <td>664300000.0</td>\n",
       "      <td>2010</td>\n",
       "      <td>9.603000e+08</td>\n",
       "    </tr>\n",
       "    <tr>\n",
       "      <th>3</th>\n",
       "      <td>Inception</td>\n",
       "      <td>WB</td>\n",
       "      <td>292600000.0</td>\n",
       "      <td>535700000.0</td>\n",
       "      <td>2010</td>\n",
       "      <td>8.283000e+08</td>\n",
       "    </tr>\n",
       "    <tr>\n",
       "      <th>4</th>\n",
       "      <td>Shrek Forever After</td>\n",
       "      <td>P/DW</td>\n",
       "      <td>238700000.0</td>\n",
       "      <td>513900000.0</td>\n",
       "      <td>2010</td>\n",
       "      <td>7.526000e+08</td>\n",
       "    </tr>\n",
       "  </tbody>\n",
       "</table>\n",
       "</div>"
      ],
      "text/plain": [
       "                                         title studio  domestic_gross  \\\n",
       "0                                  Toy Story 3     BV     415000000.0   \n",
       "1                   Alice in Wonderland (2010)     BV     334200000.0   \n",
       "2  Harry Potter and the Deathly Hallows Part 1     WB     296000000.0   \n",
       "3                                    Inception     WB     292600000.0   \n",
       "4                          Shrek Forever After   P/DW     238700000.0   \n",
       "\n",
       "   foreign_gross  year   Total_gross  \n",
       "0    652000000.0  2010  1.067000e+09  \n",
       "1    691300000.0  2010  1.025500e+09  \n",
       "2    664300000.0  2010  9.603000e+08  \n",
       "3    535700000.0  2010  8.283000e+08  \n",
       "4    513900000.0  2010  7.526000e+08  "
      ]
     },
     "execution_count": 30,
     "metadata": {},
     "output_type": "execute_result"
    }
   ],
   "source": [
    "movie_gross['Total_gross'] = movie_gross['domestic_gross'] + movie_gross['foreign_gross']\n",
    "movie_gross.head()"
   ]
  },
  {
   "cell_type": "markdown",
   "metadata": {},
   "source": [
    "## Title_basics Data"
   ]
  },
  {
   "cell_type": "code",
   "execution_count": 31,
   "metadata": {},
   "outputs": [
    {
     "name": "stdout",
     "output_type": "stream",
     "text": [
      "<class 'pandas.core.frame.DataFrame'>\n",
      "RangeIndex: 146144 entries, 0 to 146143\n",
      "Data columns (total 6 columns):\n",
      " #   Column           Non-Null Count   Dtype  \n",
      "---  ------           --------------   -----  \n",
      " 0   tconst           146144 non-null  object \n",
      " 1   primary_title    146143 non-null  object \n",
      " 2   original_title   146122 non-null  object \n",
      " 3   start_year       146144 non-null  int64  \n",
      " 4   runtime_minutes  114405 non-null  float64\n",
      " 5   genres           140736 non-null  object \n",
      "dtypes: float64(1), int64(1), object(4)\n",
      "memory usage: 6.7+ MB\n"
     ]
    }
   ],
   "source": [
    "title_basics.info()"
   ]
  },
  {
   "cell_type": "code",
   "execution_count": 32,
   "metadata": {},
   "outputs": [
    {
     "data": {
      "text/plain": [
       "0"
      ]
     },
     "execution_count": 32,
     "metadata": {},
     "output_type": "execute_result"
    }
   ],
   "source": [
    "title_basics.duplicated().sum()"
   ]
  },
  {
   "cell_type": "code",
   "execution_count": 33,
   "metadata": {},
   "outputs": [
    {
     "data": {
      "text/plain": [
       "tconst                 0\n",
       "primary_title          1\n",
       "original_title        22\n",
       "start_year             0\n",
       "runtime_minutes    31739\n",
       "genres              5408\n",
       "dtype: int64"
      ]
     },
     "execution_count": 33,
     "metadata": {},
     "output_type": "execute_result"
    }
   ],
   "source": [
    "title_basics.isna().sum()"
   ]
  },
  {
   "cell_type": "code",
   "execution_count": 34,
   "metadata": {},
   "outputs": [
    {
     "data": {
      "text/html": [
       "<div>\n",
       "<style scoped>\n",
       "    .dataframe tbody tr th:only-of-type {\n",
       "        vertical-align: middle;\n",
       "    }\n",
       "\n",
       "    .dataframe tbody tr th {\n",
       "        vertical-align: top;\n",
       "    }\n",
       "\n",
       "    .dataframe thead th {\n",
       "        text-align: right;\n",
       "    }\n",
       "</style>\n",
       "<table border=\"1\" class=\"dataframe\">\n",
       "  <thead>\n",
       "    <tr style=\"text-align: right;\">\n",
       "      <th></th>\n",
       "      <th>tconst</th>\n",
       "      <th>primary_title</th>\n",
       "      <th>original_title</th>\n",
       "      <th>start_year</th>\n",
       "      <th>runtime_minutes</th>\n",
       "      <th>genres</th>\n",
       "    </tr>\n",
       "  </thead>\n",
       "  <tbody>\n",
       "    <tr>\n",
       "      <th>3</th>\n",
       "      <td>tt0069204</td>\n",
       "      <td>Sabse Bada Sukh</td>\n",
       "      <td>Sabse Bada Sukh</td>\n",
       "      <td>2018</td>\n",
       "      <td>NaN</td>\n",
       "      <td>Comedy,Drama</td>\n",
       "    </tr>\n",
       "    <tr>\n",
       "      <th>6</th>\n",
       "      <td>tt0112502</td>\n",
       "      <td>Bigfoot</td>\n",
       "      <td>Bigfoot</td>\n",
       "      <td>2017</td>\n",
       "      <td>NaN</td>\n",
       "      <td>Horror,Thriller</td>\n",
       "    </tr>\n",
       "    <tr>\n",
       "      <th>8</th>\n",
       "      <td>tt0139613</td>\n",
       "      <td>O Silêncio</td>\n",
       "      <td>O Silêncio</td>\n",
       "      <td>2012</td>\n",
       "      <td>NaN</td>\n",
       "      <td>Documentary,History</td>\n",
       "    </tr>\n",
       "    <tr>\n",
       "      <th>16</th>\n",
       "      <td>tt0187902</td>\n",
       "      <td>How Huang Fei-hong Rescued the Orphan from the...</td>\n",
       "      <td>How Huang Fei-hong Rescued the Orphan from the...</td>\n",
       "      <td>2011</td>\n",
       "      <td>NaN</td>\n",
       "      <td>NaN</td>\n",
       "    </tr>\n",
       "    <tr>\n",
       "      <th>21</th>\n",
       "      <td>tt0250404</td>\n",
       "      <td>Godfather</td>\n",
       "      <td>Godfather</td>\n",
       "      <td>2012</td>\n",
       "      <td>NaN</td>\n",
       "      <td>Crime,Drama</td>\n",
       "    </tr>\n",
       "    <tr>\n",
       "      <th>...</th>\n",
       "      <td>...</td>\n",
       "      <td>...</td>\n",
       "      <td>...</td>\n",
       "      <td>...</td>\n",
       "      <td>...</td>\n",
       "      <td>...</td>\n",
       "    </tr>\n",
       "    <tr>\n",
       "      <th>146138</th>\n",
       "      <td>tt9916428</td>\n",
       "      <td>The Secret of China</td>\n",
       "      <td>The Secret of China</td>\n",
       "      <td>2019</td>\n",
       "      <td>NaN</td>\n",
       "      <td>Adventure,History,War</td>\n",
       "    </tr>\n",
       "    <tr>\n",
       "      <th>146140</th>\n",
       "      <td>tt9916622</td>\n",
       "      <td>Rodolpho Teóphilo - O Legado de um Pioneiro</td>\n",
       "      <td>Rodolpho Teóphilo - O Legado de um Pioneiro</td>\n",
       "      <td>2015</td>\n",
       "      <td>NaN</td>\n",
       "      <td>Documentary</td>\n",
       "    </tr>\n",
       "    <tr>\n",
       "      <th>146141</th>\n",
       "      <td>tt9916706</td>\n",
       "      <td>Dankyavar Danka</td>\n",
       "      <td>Dankyavar Danka</td>\n",
       "      <td>2013</td>\n",
       "      <td>NaN</td>\n",
       "      <td>Comedy</td>\n",
       "    </tr>\n",
       "    <tr>\n",
       "      <th>146142</th>\n",
       "      <td>tt9916730</td>\n",
       "      <td>6 Gunn</td>\n",
       "      <td>6 Gunn</td>\n",
       "      <td>2017</td>\n",
       "      <td>116.0</td>\n",
       "      <td>NaN</td>\n",
       "    </tr>\n",
       "    <tr>\n",
       "      <th>146143</th>\n",
       "      <td>tt9916754</td>\n",
       "      <td>Chico Albuquerque - Revelações</td>\n",
       "      <td>Chico Albuquerque - Revelações</td>\n",
       "      <td>2013</td>\n",
       "      <td>NaN</td>\n",
       "      <td>Documentary</td>\n",
       "    </tr>\n",
       "  </tbody>\n",
       "</table>\n",
       "<p>33912 rows × 6 columns</p>\n",
       "</div>"
      ],
      "text/plain": [
       "           tconst                                      primary_title  \\\n",
       "3       tt0069204                                    Sabse Bada Sukh   \n",
       "6       tt0112502                                            Bigfoot   \n",
       "8       tt0139613                                         O Silêncio   \n",
       "16      tt0187902  How Huang Fei-hong Rescued the Orphan from the...   \n",
       "21      tt0250404                                          Godfather   \n",
       "...           ...                                                ...   \n",
       "146138  tt9916428                                The Secret of China   \n",
       "146140  tt9916622        Rodolpho Teóphilo - O Legado de um Pioneiro   \n",
       "146141  tt9916706                                    Dankyavar Danka   \n",
       "146142  tt9916730                                             6 Gunn   \n",
       "146143  tt9916754                     Chico Albuquerque - Revelações   \n",
       "\n",
       "                                           original_title  start_year  \\\n",
       "3                                         Sabse Bada Sukh        2018   \n",
       "6                                                 Bigfoot        2017   \n",
       "8                                              O Silêncio        2012   \n",
       "16      How Huang Fei-hong Rescued the Orphan from the...        2011   \n",
       "21                                              Godfather        2012   \n",
       "...                                                   ...         ...   \n",
       "146138                                The Secret of China        2019   \n",
       "146140        Rodolpho Teóphilo - O Legado de um Pioneiro        2015   \n",
       "146141                                    Dankyavar Danka        2013   \n",
       "146142                                             6 Gunn        2017   \n",
       "146143                     Chico Albuquerque - Revelações        2013   \n",
       "\n",
       "        runtime_minutes                 genres  \n",
       "3                   NaN           Comedy,Drama  \n",
       "6                   NaN        Horror,Thriller  \n",
       "8                   NaN    Documentary,History  \n",
       "16                  NaN                    NaN  \n",
       "21                  NaN            Crime,Drama  \n",
       "...                 ...                    ...  \n",
       "146138              NaN  Adventure,History,War  \n",
       "146140              NaN            Documentary  \n",
       "146141              NaN                 Comedy  \n",
       "146142            116.0                    NaN  \n",
       "146143              NaN            Documentary  \n",
       "\n",
       "[33912 rows x 6 columns]"
      ]
     },
     "execution_count": 34,
     "metadata": {},
     "output_type": "execute_result"
    }
   ],
   "source": [
    "# checking for the records with the NaN values\n",
    "missingrows_title_basics =title_basics[title_basics.isna().any(axis=1)]\n",
    "missingrows_title_basics"
   ]
  },
  {
   "cell_type": "code",
   "execution_count": 35,
   "metadata": {},
   "outputs": [],
   "source": [
    "title_basics['primary_title'].fillna('No Primary Title',inplace=True)\n",
    "title_basics['original_title'].fillna('No Original Title',inplace=True)\n",
    "title_basics['genres'].fillna('No Genre',inplace=True)"
   ]
  },
  {
   "cell_type": "code",
   "execution_count": 36,
   "metadata": {},
   "outputs": [
    {
     "data": {
      "text/plain": [
       "tconst                 0\n",
       "primary_title          0\n",
       "original_title         0\n",
       "start_year             0\n",
       "runtime_minutes    31739\n",
       "genres                 0\n",
       "dtype: int64"
      ]
     },
     "execution_count": 36,
     "metadata": {},
     "output_type": "execute_result"
    }
   ],
   "source": [
    "title_basics.isna().sum()"
   ]
  },
  {
   "cell_type": "code",
   "execution_count": 37,
   "metadata": {},
   "outputs": [
    {
     "data": {
      "text/plain": [
       "dtype('float64')"
      ]
     },
     "execution_count": 37,
     "metadata": {},
     "output_type": "execute_result"
    }
   ],
   "source": [
    "title_basics['runtime_minutes'].dtype"
   ]
  },
  {
   "cell_type": "code",
   "execution_count": 38,
   "metadata": {},
   "outputs": [
    {
     "data": {
      "text/plain": [
       "array([1.750e+02, 1.140e+02, 1.220e+02,       nan, 8.000e+01, 7.500e+01,\n",
       "       8.300e+01, 8.200e+01, 1.360e+02, 1.000e+02, 1.800e+02, 8.900e+01,\n",
       "       6.000e+01, 1.600e+02, 1.040e+02, 1.200e+02, 1.100e+02, 9.100e+01,\n",
       "       1.340e+02, 4.400e+01, 4.000e+01, 9.700e+01, 5.900e+01, 4.500e+01,\n",
       "       8.600e+01, 9.500e+01, 9.000e+01, 1.030e+02, 9.600e+01, 8.800e+01,\n",
       "       1.020e+02, 1.090e+02, 9.900e+01, 8.400e+01, 1.240e+02, 9.800e+01,\n",
       "       1.010e+02, 1.370e+02, 5.700e+01, 1.190e+02, 1.080e+02, 9.200e+01,\n",
       "       2.800e+02, 8.700e+01, 1.320e+02, 1.810e+02, 1.440e+02, 1.070e+02,\n",
       "       1.120e+02, 9.300e+01, 1.130e+02, 1.170e+02, 1.270e+02, 1.500e+02,\n",
       "       1.150e+02, 1.050e+02, 1.410e+02, 1.280e+02, 8.500e+01, 5.600e+01,\n",
       "       9.400e+01, 7.600e+01, 1.230e+02, 1.630e+02, 8.100e+01, 1.160e+02,\n",
       "       1.060e+02, 1.290e+02, 1.390e+02, 7.700e+01, 1.250e+02, 1.610e+02,\n",
       "       7.800e+01, 1.430e+02, 1.300e+02, 2.000e+02, 1.180e+02, 1.310e+02,\n",
       "       1.690e+02, 7.900e+01, 6.700e+01, 1.210e+02, 7.400e+01, 1.110e+02,\n",
       "       1.330e+02, 7.200e+01, 1.460e+02, 5.500e+01, 1.400e+02, 6.500e+01,\n",
       "       1.260e+02, 7.000e+01, 5.200e+01, 5.100e+01, 6.300e+01, 6.100e+01,\n",
       "       5.000e+01, 5.800e+01, 7.300e+01, 4.800e+01, 1.300e+01, 1.500e+01,\n",
       "       6.600e+01, 6.800e+01, 1.580e+02, 5.300e+01, 7.100e+01, 1.420e+02,\n",
       "       6.200e+01, 4.700e+01, 2.000e+01, 6.900e+01, 1.560e+02, 1.540e+02,\n",
       "       2.700e+01, 1.100e+01, 8.000e+00, 1.480e+02, 4.900e+01, 6.400e+01,\n",
       "       3.100e+01, 1.350e+02, 5.400e+01, 1.600e+01, 2.880e+02, 4.600e+01,\n",
       "       1.970e+02, 1.450e+02, 1.510e+02, 2.080e+02, 2.220e+02, 4.300e+01,\n",
       "       1.550e+02, 3.000e+01, 1.620e+02, 1.740e+02, 2.260e+02, 5.000e+00,\n",
       "       4.000e+00, 2.600e+01, 1.200e+01, 1.920e+02, 2.600e+02, 1.650e+02,\n",
       "       1.380e+02, 2.250e+02, 2.900e+01, 2.760e+02, 1.400e+01, 7.000e+00,\n",
       "       1.000e+00, 3.300e+01, 1.490e+02, 3.400e+01, 9.000e+00, 1.520e+02,\n",
       "       2.100e+01, 1.000e+01, 1.700e+01, 2.400e+01, 4.200e+01, 1.950e+02,\n",
       "       6.000e+00, 1.470e+02, 2.000e+00, 1.780e+02, 3.000e+00, 1.760e+02,\n",
       "       2.500e+01, 1.800e+01, 3.500e+02, 2.410e+02, 2.800e+01, 1.900e+01,\n",
       "       2.960e+02, 3.880e+02, 2.700e+02, 2.150e+02, 2.200e+01, 2.570e+02,\n",
       "       3.600e+01, 1.570e+02, 2.720e+02, 1.680e+02, 1.320e+03, 1.640e+02,\n",
       "       1.700e+02, 1.720e+02, 1.530e+02, 3.100e+02, 3.900e+01, 1.830e+02,\n",
       "       4.100e+01, 1.900e+02, 3.500e+01, 2.200e+02, 1.670e+02, 3.200e+01,\n",
       "       1.590e+02, 2.640e+02, 3.700e+01, 2.500e+02, 3.800e+01, 3.450e+03,\n",
       "       2.300e+01, 2.780e+02, 3.560e+02, 3.300e+02, 1.820e+02, 4.200e+03,\n",
       "       1.800e+03, 1.960e+02, 3.640e+02, 1.730e+02, 7.610e+02, 1.850e+02,\n",
       "       2.370e+02, 2.330e+02, 1.660e+02, 2.560e+02, 2.940e+02, 2.400e+03,\n",
       "       5.000e+02, 1.669e+03, 6.050e+02, 8.400e+02, 2.400e+02, 3.210e+02,\n",
       "       1.860e+02, 2.310e+02, 2.300e+02, 1.440e+03, 3.600e+02, 2.050e+02,\n",
       "       1.710e+02, 2.010e+02, 3.200e+02, 2.100e+02, 2.180e+02, 2.440e+02,\n",
       "       3.530e+02, 2.540e+02, 1.990e+02, 1.930e+02, 3.000e+02, 1.880e+02,\n",
       "       2.240e+02, 3.240e+02, 1.840e+02, 2.360e+02, 1.770e+02, 7.240e+02,\n",
       "       2.430e+02, 2.210e+02, 8.420e+02, 5.450e+02, 2.910e+02, 3.330e+02,\n",
       "       1.980e+02, 1.910e+02, 2.350e+02, 3.170e+02, 1.440e+04, 2.380e+02,\n",
       "       1.890e+02, 2.450e+02, 4.800e+02, 2.280e+02, 2.130e+02, 2.480e+02,\n",
       "       4.040e+02, 2.110e+02, 2.320e+02, 4.500e+02, 4.160e+02, 2.270e+02,\n",
       "       2.040e+02, 3.380e+02, 2.850e+02, 4.760e+02, 3.540e+02, 1.790e+02,\n",
       "       3.190e+02, 3.630e+02, 3.820e+02, 7.800e+02, 2.020e+02, 3.410e+02,\n",
       "       3.077e+03, 2.520e+02, 2.140e+02, 3.230e+02, 1.200e+03, 4.100e+02,\n",
       "       2.090e+02, 3.250e+02, 6.000e+02, 3.340e+02, 2.170e+02, 2.580e+02,\n",
       "       1.151e+03, 2.650e+02, 2.290e+02, 5.490e+02, 7.200e+02, 5.200e+02,\n",
       "       4.850e+02, 6.000e+03, 2.905e+03, 5.460e+03, 2.030e+02, 4.980e+03,\n",
       "       2.840e+02, 2.770e+02, 2.120e+02, 4.670e+02, 6.070e+02, 5.400e+02,\n",
       "       3.790e+02, 3.040e+02, 2.060e+02, 2.740e+02, 3.020e+02, 2.160e+02,\n",
       "       1.559e+03, 9.000e+02, 2.470e+02, 4.080e+03, 2.070e+02, 2.820e+02,\n",
       "       1.870e+02, 3.460e+02, 2.550e+02, 1.940e+02, 4.060e+02, 7.880e+02,\n",
       "       2.420e+02, 1.260e+03, 2.340e+02, 3.120e+02, 2.230e+02, 2.190e+02,\n",
       "       2.160e+03, 4.240e+02, 6.230e+02, 1.834e+03, 6.017e+03, 2.870e+02,\n",
       "       7.460e+02, 1.184e+03, 9.120e+02, 3.960e+02, 2.630e+02, 3.830e+02,\n",
       "       3.590e+02, 6.530e+02, 2.390e+02, 5.142e+04, 4.950e+02, 2.460e+02,\n",
       "       1.100e+03, 6.010e+02, 6.600e+02, 8.080e+02, 2.950e+02, 2.610e+02,\n",
       "       2.690e+02, 4.470e+02])"
      ]
     },
     "execution_count": 38,
     "metadata": {},
     "output_type": "execute_result"
    }
   ],
   "source": [
    "title_basics['runtime_minutes'].unique()"
   ]
  },
  {
   "cell_type": "code",
   "execution_count": 39,
   "metadata": {},
   "outputs": [
    {
     "data": {
      "text/plain": [
       "runtime_minutes\n",
       "90.0     7131\n",
       "80.0     3526\n",
       "85.0     2915\n",
       "100.0    2662\n",
       "95.0     2549\n",
       "         ... \n",
       "319.0       1\n",
       "354.0       1\n",
       "476.0       1\n",
       "338.0       1\n",
       "447.0       1\n",
       "Name: count, Length: 367, dtype: int64"
      ]
     },
     "execution_count": 39,
     "metadata": {},
     "output_type": "execute_result"
    }
   ],
   "source": [
    "title_basics['runtime_minutes'].value_counts()"
   ]
  },
  {
   "cell_type": "code",
   "execution_count": 40,
   "metadata": {},
   "outputs": [],
   "source": [
    "title_basics['runtime_minutes'] = title_basics['runtime_minutes'].replace(np.nan,0)\n",
    "title_basics['runtime_minutes'] = title_basics['runtime_minutes'].astype('float64')\n",
    "title_basics['runtime_minutes'] = title_basics['runtime_minutes'].replace(0,title_basics['runtime_minutes'].mean())"
   ]
  },
  {
   "cell_type": "code",
   "execution_count": 41,
   "metadata": {},
   "outputs": [
    {
     "data": {
      "text/plain": [
       "tconst             0\n",
       "primary_title      0\n",
       "original_title     0\n",
       "start_year         0\n",
       "runtime_minutes    0\n",
       "genres             0\n",
       "dtype: int64"
      ]
     },
     "execution_count": 41,
     "metadata": {},
     "output_type": "execute_result"
    }
   ],
   "source": [
    "title_basics.isna().sum()"
   ]
  },
  {
   "cell_type": "code",
   "execution_count": 42,
   "metadata": {},
   "outputs": [
    {
     "data": {
      "text/plain": [
       "dtype('float64')"
      ]
     },
     "execution_count": 42,
     "metadata": {},
     "output_type": "execute_result"
    }
   ],
   "source": [
    "title_basics['runtime_minutes'].dtype"
   ]
  },
  {
   "cell_type": "markdown",
   "metadata": {},
   "source": [
    "## Title_ratings Data"
   ]
  },
  {
   "cell_type": "code",
   "execution_count": 43,
   "metadata": {},
   "outputs": [
    {
     "name": "stdout",
     "output_type": "stream",
     "text": [
      "<class 'pandas.core.frame.DataFrame'>\n",
      "RangeIndex: 73856 entries, 0 to 73855\n",
      "Data columns (total 3 columns):\n",
      " #   Column         Non-Null Count  Dtype  \n",
      "---  ------         --------------  -----  \n",
      " 0   tconst         73856 non-null  object \n",
      " 1   averagerating  73856 non-null  float64\n",
      " 2   numvotes       73856 non-null  int64  \n",
      "dtypes: float64(1), int64(1), object(1)\n",
      "memory usage: 1.7+ MB\n"
     ]
    }
   ],
   "source": [
    "title_ratings.info()"
   ]
  },
  {
   "cell_type": "code",
   "execution_count": 44,
   "metadata": {},
   "outputs": [
    {
     "data": {
      "text/plain": [
       "0"
      ]
     },
     "execution_count": 44,
     "metadata": {},
     "output_type": "execute_result"
    }
   ],
   "source": [
    "title_ratings.duplicated().sum()"
   ]
  },
  {
   "cell_type": "markdown",
   "metadata": {},
   "source": [
    "## Merging Datasets"
   ]
  },
  {
   "cell_type": "markdown",
   "metadata": {},
   "source": [
    "We will first merge the title_basics and title_ratings datasets to get combined_title dataset.The primary key is the tconst hence an inner join."
   ]
  },
  {
   "cell_type": "code",
   "execution_count": 45,
   "metadata": {},
   "outputs": [
    {
     "data": {
      "text/html": [
       "<div>\n",
       "<style scoped>\n",
       "    .dataframe tbody tr th:only-of-type {\n",
       "        vertical-align: middle;\n",
       "    }\n",
       "\n",
       "    .dataframe tbody tr th {\n",
       "        vertical-align: top;\n",
       "    }\n",
       "\n",
       "    .dataframe thead th {\n",
       "        text-align: right;\n",
       "    }\n",
       "</style>\n",
       "<table border=\"1\" class=\"dataframe\">\n",
       "  <thead>\n",
       "    <tr style=\"text-align: right;\">\n",
       "      <th></th>\n",
       "      <th>tconst</th>\n",
       "      <th>primary_title</th>\n",
       "      <th>original_title</th>\n",
       "      <th>start_year</th>\n",
       "      <th>runtime_minutes</th>\n",
       "      <th>genres</th>\n",
       "      <th>tconst_ratings</th>\n",
       "      <th>averagerating</th>\n",
       "      <th>numvotes</th>\n",
       "    </tr>\n",
       "  </thead>\n",
       "  <tbody>\n",
       "    <tr>\n",
       "      <th>0</th>\n",
       "      <td>tt0063540</td>\n",
       "      <td>Sunghursh</td>\n",
       "      <td>Sunghursh</td>\n",
       "      <td>2013</td>\n",
       "      <td>175.000000</td>\n",
       "      <td>Action,Crime,Drama</td>\n",
       "      <td>tt10356526</td>\n",
       "      <td>8.3</td>\n",
       "      <td>31</td>\n",
       "    </tr>\n",
       "    <tr>\n",
       "      <th>1</th>\n",
       "      <td>tt0066787</td>\n",
       "      <td>One Day Before the Rainy Season</td>\n",
       "      <td>Ashad Ka Ek Din</td>\n",
       "      <td>2019</td>\n",
       "      <td>114.000000</td>\n",
       "      <td>Biography,Drama</td>\n",
       "      <td>tt10384606</td>\n",
       "      <td>8.9</td>\n",
       "      <td>559</td>\n",
       "    </tr>\n",
       "    <tr>\n",
       "      <th>2</th>\n",
       "      <td>tt0069049</td>\n",
       "      <td>The Other Side of the Wind</td>\n",
       "      <td>The Other Side of the Wind</td>\n",
       "      <td>2018</td>\n",
       "      <td>122.000000</td>\n",
       "      <td>Drama</td>\n",
       "      <td>tt1042974</td>\n",
       "      <td>6.4</td>\n",
       "      <td>20</td>\n",
       "    </tr>\n",
       "    <tr>\n",
       "      <th>3</th>\n",
       "      <td>tt0069204</td>\n",
       "      <td>Sabse Bada Sukh</td>\n",
       "      <td>Sabse Bada Sukh</td>\n",
       "      <td>2018</td>\n",
       "      <td>67.469427</td>\n",
       "      <td>Comedy,Drama</td>\n",
       "      <td>tt1043726</td>\n",
       "      <td>4.2</td>\n",
       "      <td>50352</td>\n",
       "    </tr>\n",
       "    <tr>\n",
       "      <th>4</th>\n",
       "      <td>tt0100275</td>\n",
       "      <td>The Wandering Soap Opera</td>\n",
       "      <td>La Telenovela Errante</td>\n",
       "      <td>2017</td>\n",
       "      <td>80.000000</td>\n",
       "      <td>Comedy,Drama,Fantasy</td>\n",
       "      <td>tt1060240</td>\n",
       "      <td>6.5</td>\n",
       "      <td>21</td>\n",
       "    </tr>\n",
       "    <tr>\n",
       "      <th>...</th>\n",
       "      <td>...</td>\n",
       "      <td>...</td>\n",
       "      <td>...</td>\n",
       "      <td>...</td>\n",
       "      <td>...</td>\n",
       "      <td>...</td>\n",
       "      <td>...</td>\n",
       "      <td>...</td>\n",
       "      <td>...</td>\n",
       "    </tr>\n",
       "    <tr>\n",
       "      <th>73851</th>\n",
       "      <td>tt4206656</td>\n",
       "      <td>MarchFourth Marching Band in China</td>\n",
       "      <td>MarchFourth Marching Band in China</td>\n",
       "      <td>2014</td>\n",
       "      <td>66.000000</td>\n",
       "      <td>Documentary,Music</td>\n",
       "      <td>tt9805820</td>\n",
       "      <td>8.1</td>\n",
       "      <td>25</td>\n",
       "    </tr>\n",
       "    <tr>\n",
       "      <th>73852</th>\n",
       "      <td>tt4206658</td>\n",
       "      <td>El Bumbún</td>\n",
       "      <td>El Bumbún</td>\n",
       "      <td>2014</td>\n",
       "      <td>85.000000</td>\n",
       "      <td>Drama</td>\n",
       "      <td>tt9844256</td>\n",
       "      <td>7.5</td>\n",
       "      <td>24</td>\n",
       "    </tr>\n",
       "    <tr>\n",
       "      <th>73853</th>\n",
       "      <td>tt4206724</td>\n",
       "      <td>70 Acres in Chicago: Cabrini Green</td>\n",
       "      <td>70 Acres in Chicago: Cabrini Green</td>\n",
       "      <td>2014</td>\n",
       "      <td>53.000000</td>\n",
       "      <td>Documentary,History,News</td>\n",
       "      <td>tt9851050</td>\n",
       "      <td>4.7</td>\n",
       "      <td>14</td>\n",
       "    </tr>\n",
       "    <tr>\n",
       "      <th>73854</th>\n",
       "      <td>tt4207014</td>\n",
       "      <td>Amante de lo ajeno</td>\n",
       "      <td>Amante de lo ajeno</td>\n",
       "      <td>2012</td>\n",
       "      <td>99.000000</td>\n",
       "      <td>Drama</td>\n",
       "      <td>tt9886934</td>\n",
       "      <td>7.0</td>\n",
       "      <td>5</td>\n",
       "    </tr>\n",
       "    <tr>\n",
       "      <th>73855</th>\n",
       "      <td>tt4207078</td>\n",
       "      <td>Nazar Palmus</td>\n",
       "      <td>Nazar Palmus</td>\n",
       "      <td>2016</td>\n",
       "      <td>67.469427</td>\n",
       "      <td>Fantasy,Romance,Thriller</td>\n",
       "      <td>tt9894098</td>\n",
       "      <td>6.3</td>\n",
       "      <td>128</td>\n",
       "    </tr>\n",
       "  </tbody>\n",
       "</table>\n",
       "<p>73856 rows × 9 columns</p>\n",
       "</div>"
      ],
      "text/plain": [
       "          tconst                       primary_title  \\\n",
       "0      tt0063540                           Sunghursh   \n",
       "1      tt0066787     One Day Before the Rainy Season   \n",
       "2      tt0069049          The Other Side of the Wind   \n",
       "3      tt0069204                     Sabse Bada Sukh   \n",
       "4      tt0100275            The Wandering Soap Opera   \n",
       "...          ...                                 ...   \n",
       "73851  tt4206656  MarchFourth Marching Band in China   \n",
       "73852  tt4206658                           El Bumbún   \n",
       "73853  tt4206724  70 Acres in Chicago: Cabrini Green   \n",
       "73854  tt4207014                  Amante de lo ajeno   \n",
       "73855  tt4207078                        Nazar Palmus   \n",
       "\n",
       "                           original_title  start_year  runtime_minutes  \\\n",
       "0                               Sunghursh        2013       175.000000   \n",
       "1                         Ashad Ka Ek Din        2019       114.000000   \n",
       "2              The Other Side of the Wind        2018       122.000000   \n",
       "3                         Sabse Bada Sukh        2018        67.469427   \n",
       "4                   La Telenovela Errante        2017        80.000000   \n",
       "...                                   ...         ...              ...   \n",
       "73851  MarchFourth Marching Band in China        2014        66.000000   \n",
       "73852                           El Bumbún        2014        85.000000   \n",
       "73853  70 Acres in Chicago: Cabrini Green        2014        53.000000   \n",
       "73854                  Amante de lo ajeno        2012        99.000000   \n",
       "73855                        Nazar Palmus        2016        67.469427   \n",
       "\n",
       "                         genres tconst_ratings  averagerating  numvotes  \n",
       "0            Action,Crime,Drama     tt10356526            8.3        31  \n",
       "1               Biography,Drama     tt10384606            8.9       559  \n",
       "2                         Drama      tt1042974            6.4        20  \n",
       "3                  Comedy,Drama      tt1043726            4.2     50352  \n",
       "4          Comedy,Drama,Fantasy      tt1060240            6.5        21  \n",
       "...                         ...            ...            ...       ...  \n",
       "73851         Documentary,Music      tt9805820            8.1        25  \n",
       "73852                     Drama      tt9844256            7.5        24  \n",
       "73853  Documentary,History,News      tt9851050            4.7        14  \n",
       "73854                     Drama      tt9886934            7.0         5  \n",
       "73855  Fantasy,Romance,Thriller      tt9894098            6.3       128  \n",
       "\n",
       "[73856 rows x 9 columns]"
      ]
     },
     "execution_count": 45,
     "metadata": {},
     "output_type": "execute_result"
    }
   ],
   "source": [
    "combined_title_df = title_basics.join(title_ratings,rsuffix=\"_ratings\" , how=\"inner\")\n",
    "combined_title_df"
   ]
  },
  {
   "cell_type": "code",
   "execution_count": 46,
   "metadata": {},
   "outputs": [
    {
     "data": {
      "text/html": [
       "<div>\n",
       "<style scoped>\n",
       "    .dataframe tbody tr th:only-of-type {\n",
       "        vertical-align: middle;\n",
       "    }\n",
       "\n",
       "    .dataframe tbody tr th {\n",
       "        vertical-align: top;\n",
       "    }\n",
       "\n",
       "    .dataframe thead th {\n",
       "        text-align: right;\n",
       "    }\n",
       "</style>\n",
       "<table border=\"1\" class=\"dataframe\">\n",
       "  <thead>\n",
       "    <tr style=\"text-align: right;\">\n",
       "      <th></th>\n",
       "      <th>tconst</th>\n",
       "      <th>primary_title</th>\n",
       "      <th>original_title</th>\n",
       "      <th>start_year</th>\n",
       "      <th>runtime_minutes</th>\n",
       "      <th>genres</th>\n",
       "      <th>tconst_ratings</th>\n",
       "      <th>averagerating</th>\n",
       "      <th>numvotes</th>\n",
       "      <th>title_comparison</th>\n",
       "    </tr>\n",
       "  </thead>\n",
       "  <tbody>\n",
       "    <tr>\n",
       "      <th>0</th>\n",
       "      <td>tt0063540</td>\n",
       "      <td>Sunghursh</td>\n",
       "      <td>Sunghursh</td>\n",
       "      <td>2013</td>\n",
       "      <td>175.000000</td>\n",
       "      <td>Action,Crime,Drama</td>\n",
       "      <td>tt10356526</td>\n",
       "      <td>8.3</td>\n",
       "      <td>31</td>\n",
       "      <td>True</td>\n",
       "    </tr>\n",
       "    <tr>\n",
       "      <th>1</th>\n",
       "      <td>tt0066787</td>\n",
       "      <td>One Day Before the Rainy Season</td>\n",
       "      <td>Ashad Ka Ek Din</td>\n",
       "      <td>2019</td>\n",
       "      <td>114.000000</td>\n",
       "      <td>Biography,Drama</td>\n",
       "      <td>tt10384606</td>\n",
       "      <td>8.9</td>\n",
       "      <td>559</td>\n",
       "      <td>False</td>\n",
       "    </tr>\n",
       "    <tr>\n",
       "      <th>2</th>\n",
       "      <td>tt0069049</td>\n",
       "      <td>The Other Side of the Wind</td>\n",
       "      <td>The Other Side of the Wind</td>\n",
       "      <td>2018</td>\n",
       "      <td>122.000000</td>\n",
       "      <td>Drama</td>\n",
       "      <td>tt1042974</td>\n",
       "      <td>6.4</td>\n",
       "      <td>20</td>\n",
       "      <td>True</td>\n",
       "    </tr>\n",
       "    <tr>\n",
       "      <th>3</th>\n",
       "      <td>tt0069204</td>\n",
       "      <td>Sabse Bada Sukh</td>\n",
       "      <td>Sabse Bada Sukh</td>\n",
       "      <td>2018</td>\n",
       "      <td>67.469427</td>\n",
       "      <td>Comedy,Drama</td>\n",
       "      <td>tt1043726</td>\n",
       "      <td>4.2</td>\n",
       "      <td>50352</td>\n",
       "      <td>True</td>\n",
       "    </tr>\n",
       "    <tr>\n",
       "      <th>4</th>\n",
       "      <td>tt0100275</td>\n",
       "      <td>The Wandering Soap Opera</td>\n",
       "      <td>La Telenovela Errante</td>\n",
       "      <td>2017</td>\n",
       "      <td>80.000000</td>\n",
       "      <td>Comedy,Drama,Fantasy</td>\n",
       "      <td>tt1060240</td>\n",
       "      <td>6.5</td>\n",
       "      <td>21</td>\n",
       "      <td>False</td>\n",
       "    </tr>\n",
       "    <tr>\n",
       "      <th>...</th>\n",
       "      <td>...</td>\n",
       "      <td>...</td>\n",
       "      <td>...</td>\n",
       "      <td>...</td>\n",
       "      <td>...</td>\n",
       "      <td>...</td>\n",
       "      <td>...</td>\n",
       "      <td>...</td>\n",
       "      <td>...</td>\n",
       "      <td>...</td>\n",
       "    </tr>\n",
       "    <tr>\n",
       "      <th>73851</th>\n",
       "      <td>tt4206656</td>\n",
       "      <td>MarchFourth Marching Band in China</td>\n",
       "      <td>MarchFourth Marching Band in China</td>\n",
       "      <td>2014</td>\n",
       "      <td>66.000000</td>\n",
       "      <td>Documentary,Music</td>\n",
       "      <td>tt9805820</td>\n",
       "      <td>8.1</td>\n",
       "      <td>25</td>\n",
       "      <td>True</td>\n",
       "    </tr>\n",
       "    <tr>\n",
       "      <th>73852</th>\n",
       "      <td>tt4206658</td>\n",
       "      <td>El Bumbún</td>\n",
       "      <td>El Bumbún</td>\n",
       "      <td>2014</td>\n",
       "      <td>85.000000</td>\n",
       "      <td>Drama</td>\n",
       "      <td>tt9844256</td>\n",
       "      <td>7.5</td>\n",
       "      <td>24</td>\n",
       "      <td>True</td>\n",
       "    </tr>\n",
       "    <tr>\n",
       "      <th>73853</th>\n",
       "      <td>tt4206724</td>\n",
       "      <td>70 Acres in Chicago: Cabrini Green</td>\n",
       "      <td>70 Acres in Chicago: Cabrini Green</td>\n",
       "      <td>2014</td>\n",
       "      <td>53.000000</td>\n",
       "      <td>Documentary,History,News</td>\n",
       "      <td>tt9851050</td>\n",
       "      <td>4.7</td>\n",
       "      <td>14</td>\n",
       "      <td>True</td>\n",
       "    </tr>\n",
       "    <tr>\n",
       "      <th>73854</th>\n",
       "      <td>tt4207014</td>\n",
       "      <td>Amante de lo ajeno</td>\n",
       "      <td>Amante de lo ajeno</td>\n",
       "      <td>2012</td>\n",
       "      <td>99.000000</td>\n",
       "      <td>Drama</td>\n",
       "      <td>tt9886934</td>\n",
       "      <td>7.0</td>\n",
       "      <td>5</td>\n",
       "      <td>True</td>\n",
       "    </tr>\n",
       "    <tr>\n",
       "      <th>73855</th>\n",
       "      <td>tt4207078</td>\n",
       "      <td>Nazar Palmus</td>\n",
       "      <td>Nazar Palmus</td>\n",
       "      <td>2016</td>\n",
       "      <td>67.469427</td>\n",
       "      <td>Fantasy,Romance,Thriller</td>\n",
       "      <td>tt9894098</td>\n",
       "      <td>6.3</td>\n",
       "      <td>128</td>\n",
       "      <td>True</td>\n",
       "    </tr>\n",
       "  </tbody>\n",
       "</table>\n",
       "<p>73856 rows × 10 columns</p>\n",
       "</div>"
      ],
      "text/plain": [
       "          tconst                       primary_title  \\\n",
       "0      tt0063540                           Sunghursh   \n",
       "1      tt0066787     One Day Before the Rainy Season   \n",
       "2      tt0069049          The Other Side of the Wind   \n",
       "3      tt0069204                     Sabse Bada Sukh   \n",
       "4      tt0100275            The Wandering Soap Opera   \n",
       "...          ...                                 ...   \n",
       "73851  tt4206656  MarchFourth Marching Band in China   \n",
       "73852  tt4206658                           El Bumbún   \n",
       "73853  tt4206724  70 Acres in Chicago: Cabrini Green   \n",
       "73854  tt4207014                  Amante de lo ajeno   \n",
       "73855  tt4207078                        Nazar Palmus   \n",
       "\n",
       "                           original_title  start_year  runtime_minutes  \\\n",
       "0                               Sunghursh        2013       175.000000   \n",
       "1                         Ashad Ka Ek Din        2019       114.000000   \n",
       "2              The Other Side of the Wind        2018       122.000000   \n",
       "3                         Sabse Bada Sukh        2018        67.469427   \n",
       "4                   La Telenovela Errante        2017        80.000000   \n",
       "...                                   ...         ...              ...   \n",
       "73851  MarchFourth Marching Band in China        2014        66.000000   \n",
       "73852                           El Bumbún        2014        85.000000   \n",
       "73853  70 Acres in Chicago: Cabrini Green        2014        53.000000   \n",
       "73854                  Amante de lo ajeno        2012        99.000000   \n",
       "73855                        Nazar Palmus        2016        67.469427   \n",
       "\n",
       "                         genres tconst_ratings  averagerating  numvotes  \\\n",
       "0            Action,Crime,Drama     tt10356526            8.3        31   \n",
       "1               Biography,Drama     tt10384606            8.9       559   \n",
       "2                         Drama      tt1042974            6.4        20   \n",
       "3                  Comedy,Drama      tt1043726            4.2     50352   \n",
       "4          Comedy,Drama,Fantasy      tt1060240            6.5        21   \n",
       "...                         ...            ...            ...       ...   \n",
       "73851         Documentary,Music      tt9805820            8.1        25   \n",
       "73852                     Drama      tt9844256            7.5        24   \n",
       "73853  Documentary,History,News      tt9851050            4.7        14   \n",
       "73854                     Drama      tt9886934            7.0         5   \n",
       "73855  Fantasy,Romance,Thriller      tt9894098            6.3       128   \n",
       "\n",
       "       title_comparison  \n",
       "0                  True  \n",
       "1                 False  \n",
       "2                  True  \n",
       "3                  True  \n",
       "4                 False  \n",
       "...                 ...  \n",
       "73851              True  \n",
       "73852              True  \n",
       "73853              True  \n",
       "73854              True  \n",
       "73855              True  \n",
       "\n",
       "[73856 rows x 10 columns]"
      ]
     },
     "execution_count": 46,
     "metadata": {},
     "output_type": "execute_result"
    }
   ],
   "source": [
    "combined_title_df['title_comparison'] = combined_title_df['primary_title'] == combined_title_df['original_title'] \n",
    "combined_title_df"
   ]
  },
  {
   "cell_type": "code",
   "execution_count": 47,
   "metadata": {},
   "outputs": [
    {
     "data": {
      "text/plain": [
       "title_comparison\n",
       "True     0.885629\n",
       "False    0.114371\n",
       "Name: proportion, dtype: float64"
      ]
     },
     "execution_count": 47,
     "metadata": {},
     "output_type": "execute_result"
    }
   ],
   "source": [
    "combined_title_df['title_comparison'].value_counts('false')"
   ]
  },
  {
   "cell_type": "markdown",
   "metadata": {},
   "source": [
    "## Analysis "
   ]
  },
  {
   "cell_type": "code",
   "execution_count": 48,
   "metadata": {},
   "outputs": [],
   "source": [
    "import seaborn as sns\n",
    "import matplotlib\n",
    "import matplotlib.pyplot as plt\n",
    "\n",
    "%matplotlib inline"
   ]
  },
  {
   "cell_type": "code",
   "execution_count": 49,
   "metadata": {},
   "outputs": [
    {
     "name": "stdout",
     "output_type": "stream",
     "text": [
      "Correlation between 'averagerating' and 'numvotes': 0.04447809440198375\n"
     ]
    }
   ],
   "source": [
    "# Calculate the correlation between 'averagerating' and 'numvotes'\n",
    "correlation = combined_title_df['averagerating'].corr(combined_title_df['numvotes'])\n",
    "\n",
    "print(\"Correlation between 'averagerating' and 'numvotes':\", correlation)"
   ]
  },
  {
   "cell_type": "code",
   "execution_count": 52,
   "metadata": {},
   "outputs": [
    {
     "data": {
      "image/png": "[encoded data removed]",
      "text/plain": [
       "<Figure size 640x480 with 1 Axes>"
      ]
     },
     "metadata": {},
     "output_type": "display_data"
    }
   ],
   "source": [
    "# Scatter plot\n",
    "plt.scatter(combined_title_df['averagerating'], combined_title_df['numvotes'])\n",
    "plt.title('Scatter Plot of averagerating vs numvotes')\n",
    "plt.xlabel('averagerating')\n",
    "plt.ylabel('numvotes')\n",
    "plt.show()"
   ]
  },
  {
   "cell_type": "markdown",
   "metadata": {},
   "source": [
    "The linear relationship between the two variables is weak since its close to 0.Hence there is no significant relationship between the average ratings and the num votes.Changes in average rating have almost no impact on the number of votes a title receives and vice versa."
   ]
  },
  {
   "cell_type": "markdown",
   "metadata": {},
   "source": [
    "**Title Distribution Per Year**"
   ]
  },
  {
   "cell_type": "code",
   "execution_count": 53,
   "metadata": {},
   "outputs": [
    {
     "data": {
      "text/html": [
       "<div>\n",
       "<style scoped>\n",
       "    .dataframe tbody tr th:only-of-type {\n",
       "        vertical-align: middle;\n",
       "    }\n",
       "\n",
       "    .dataframe tbody tr th {\n",
       "        vertical-align: top;\n",
       "    }\n",
       "\n",
       "    .dataframe thead th {\n",
       "        text-align: right;\n",
       "    }\n",
       "</style>\n",
       "<table border=\"1\" class=\"dataframe\">\n",
       "  <thead>\n",
       "    <tr style=\"text-align: right;\">\n",
       "      <th></th>\n",
       "      <th>Title Count</th>\n",
       "    </tr>\n",
       "    <tr>\n",
       "      <th>year</th>\n",
       "      <th></th>\n",
       "    </tr>\n",
       "  </thead>\n",
       "  <tbody>\n",
       "    <tr>\n",
       "      <th>2015</th>\n",
       "      <td>450</td>\n",
       "    </tr>\n",
       "    <tr>\n",
       "      <th>2016</th>\n",
       "      <td>436</td>\n",
       "    </tr>\n",
       "    <tr>\n",
       "      <th>2012</th>\n",
       "      <td>400</td>\n",
       "    </tr>\n",
       "    <tr>\n",
       "      <th>2011</th>\n",
       "      <td>399</td>\n",
       "    </tr>\n",
       "    <tr>\n",
       "      <th>2014</th>\n",
       "      <td>395</td>\n",
       "    </tr>\n",
       "  </tbody>\n",
       "</table>\n",
       "</div>"
      ],
      "text/plain": [
       "      Title Count\n",
       "year             \n",
       "2015          450\n",
       "2016          436\n",
       "2012          400\n",
       "2011          399\n",
       "2014          395"
      ]
     },
     "execution_count": 53,
     "metadata": {},
     "output_type": "execute_result"
    }
   ],
   "source": [
    "title = movie_gross.groupby('year').agg({'title': ['count']})\n",
    "title.columns = ['Title Count']\n",
    "title = title.sort_values('Title Count', ascending = False)\n",
    "title.head()"
   ]
  },
  {
   "cell_type": "markdown",
   "metadata": {},
   "source": [
    "2015:Year with the highest number of movie releases at 450. This could be due to a variety of factors, including successful films, increased production, or strong market demand for movies during that year.\n",
    "\n",
    "2018:Had the lowest number of movie releases at 308. This decline in the number of titles could be attributed to industry-specific factors, changes in audience preferences, or economic conditions affecting film production.\n",
    "\n",
    "Consistency: Years like 2016, 2012, and 2011 also had relatively high numbers of movie releases, indicating a consistent level of film production during those years.\n",
    "\n",
    "2010-2014: These years had varying numbers of movie releases but generally stayed above 300 titles, demonstrating a steady level of film production.\n",
    "\n",
    "2013: Had a drop in the number of movie releases compared to the surrounding years. This could be due to factors specific to that year."
   ]
  },
  {
   "cell_type": "markdown",
   "metadata": {},
   "source": [
    "The film industry is adaptable to changes, with periods of growth, decline, and recovery. It responds to changing circumstances, audience preferences, and external factors like economic conditions.Its best to understand the dynamics of the film industry over the years."
   ]
  },
  {
   "cell_type": "code",
   "execution_count": 54,
   "metadata": {},
   "outputs": [
    {
     "data": {
      "image/png": "[encoded data removed]",
      "text/plain": [
       "<Figure size 800x600 with 1 Axes>"
      ]
     },
     "metadata": {},
     "output_type": "display_data"
    }
   ],
   "source": [
    "# Create the plot\n",
    "fig, ax = plt.subplots(figsize=(8, 6))\n",
    "\n",
    "# Group the movie_gross DataFrame by year and count the titles per year\n",
    "title_counts = movie_gross.groupby('year')['title'].count()\n",
    "\n",
    "# Define labels for the x-axis\n",
    "labels = title_counts.index\n",
    "\n",
    "# Plot vertical bars of fixed width using the 'bar' function\n",
    "ax.bar(labels, title_counts)\n",
    "\n",
    "# Give a title to the bar graph and label the axes\n",
    "ax.set_title(\"Title Distribution Per Year\")\n",
    "ax.set_ylabel(\"Title Count\")\n",
    "ax.set_xlabel(\"Year\")\n",
    "\n",
    "# Show the plot\n",
    "plt.show()\n"
   ]
  },
  {
   "cell_type": "code",
   "execution_count": 55,
   "metadata": {},
   "outputs": [
    {
     "data": {
      "text/plain": [
       "title             xXx: The Return of Xander Cage\n",
       "studio                                     Zeit.\n",
       "domestic_gross                       936700000.0\n",
       "foreign_gross                        960500000.0\n",
       "year                                        2018\n",
       "Total_gross                         1518900000.0\n",
       "dtype: object"
      ]
     },
     "execution_count": 55,
     "metadata": {},
     "output_type": "execute_result"
    }
   ],
   "source": [
    "movie_gross.max()"
   ]
  },
  {
   "cell_type": "code",
   "execution_count": 56,
   "metadata": {},
   "outputs": [
    {
     "data": {
      "text/plain": [
       "title                '71\n",
       "studio                3D\n",
       "domestic_gross     100.0\n",
       "foreign_gross      600.0\n",
       "year                2010\n",
       "Total_gross       4900.0\n",
       "dtype: object"
      ]
     },
     "execution_count": 56,
     "metadata": {},
     "output_type": "execute_result"
    }
   ],
   "source": [
    "movie_gross.min()"
   ]
  },
  {
   "cell_type": "markdown",
   "metadata": {},
   "source": [
    "**Best Performing Studio**"
   ]
  },
  {
   "cell_type": "code",
   "execution_count": 89,
   "metadata": {},
   "outputs": [
    {
     "data": {
      "text/html": [
       "<div>\n",
       "<style scoped>\n",
       "    .dataframe tbody tr th:only-of-type {\n",
       "        vertical-align: middle;\n",
       "    }\n",
       "\n",
       "    .dataframe tbody tr th {\n",
       "        vertical-align: top;\n",
       "    }\n",
       "\n",
       "    .dataframe thead th {\n",
       "        text-align: right;\n",
       "    }\n",
       "</style>\n",
       "<table border=\"1\" class=\"dataframe\">\n",
       "  <thead>\n",
       "    <tr style=\"text-align: right;\">\n",
       "      <th></th>\n",
       "      <th>title</th>\n",
       "      <th>studio</th>\n",
       "      <th>domestic_gross</th>\n",
       "      <th>foreign_gross</th>\n",
       "      <th>year</th>\n",
       "      <th>Total_gross</th>\n",
       "    </tr>\n",
       "  </thead>\n",
       "  <tbody>\n",
       "    <tr>\n",
       "      <th>0</th>\n",
       "      <td>Toy Story 3</td>\n",
       "      <td>BV</td>\n",
       "      <td>415000000.0</td>\n",
       "      <td>652000000.0</td>\n",
       "      <td>2010</td>\n",
       "      <td>1.067000e+09</td>\n",
       "    </tr>\n",
       "    <tr>\n",
       "      <th>1</th>\n",
       "      <td>Alice in Wonderland (2010)</td>\n",
       "      <td>BV</td>\n",
       "      <td>334200000.0</td>\n",
       "      <td>691300000.0</td>\n",
       "      <td>2010</td>\n",
       "      <td>1.025500e+09</td>\n",
       "    </tr>\n",
       "    <tr>\n",
       "      <th>2</th>\n",
       "      <td>Harry Potter and the Deathly Hallows Part 1</td>\n",
       "      <td>WB</td>\n",
       "      <td>296000000.0</td>\n",
       "      <td>664300000.0</td>\n",
       "      <td>2010</td>\n",
       "      <td>9.603000e+08</td>\n",
       "    </tr>\n",
       "    <tr>\n",
       "      <th>3</th>\n",
       "      <td>Inception</td>\n",
       "      <td>WB</td>\n",
       "      <td>292600000.0</td>\n",
       "      <td>535700000.0</td>\n",
       "      <td>2010</td>\n",
       "      <td>8.283000e+08</td>\n",
       "    </tr>\n",
       "    <tr>\n",
       "      <th>4</th>\n",
       "      <td>Shrek Forever After</td>\n",
       "      <td>P/DW</td>\n",
       "      <td>238700000.0</td>\n",
       "      <td>513900000.0</td>\n",
       "      <td>2010</td>\n",
       "      <td>7.526000e+08</td>\n",
       "    </tr>\n",
       "  </tbody>\n",
       "</table>\n",
       "</div>"
      ],
      "text/plain": [
       "                                         title studio  domestic_gross  \\\n",
       "0                                  Toy Story 3     BV     415000000.0   \n",
       "1                   Alice in Wonderland (2010)     BV     334200000.0   \n",
       "2  Harry Potter and the Deathly Hallows Part 1     WB     296000000.0   \n",
       "3                                    Inception     WB     292600000.0   \n",
       "4                          Shrek Forever After   P/DW     238700000.0   \n",
       "\n",
       "   foreign_gross  year   Total_gross  \n",
       "0    652000000.0  2010  1.067000e+09  \n",
       "1    691300000.0  2010  1.025500e+09  \n",
       "2    664300000.0  2010  9.603000e+08  \n",
       "3    535700000.0  2010  8.283000e+08  \n",
       "4    513900000.0  2010  7.526000e+08  "
      ]
     },
     "execution_count": 89,
     "metadata": {},
     "output_type": "execute_result"
    }
   ],
   "source": [
    "# Grouping by 'studio' and summing 'domestic_gross' and 'foreign_gross'\n",
    "movie_gross.groupby(['studio'])['Total_gross']\n",
    "movie_gross.head()"
   ]
  },
  {
   "cell_type": "code",
   "execution_count": 90,
   "metadata": {},
   "outputs": [
    {
     "data": {
      "text/plain": [
       "title                '71\n",
       "studio                3D\n",
       "domestic_gross     100.0\n",
       "foreign_gross      600.0\n",
       "year                2010\n",
       "Total_gross       4900.0\n",
       "dtype: object"
      ]
     },
     "execution_count": 90,
     "metadata": {},
     "output_type": "execute_result"
    }
   ],
   "source": [
    "# Grouping by 'studio' and 'year', and summing 'domestic_gross' and 'foreign_gross'\n",
    "movie_gross.groupby(['studio'])['Total_gross']\n",
    "movie_gross.min()"
   ]
  },
  {
   "cell_type": "code",
   "execution_count": 91,
   "metadata": {},
   "outputs": [
    {
     "data": {
      "text/plain": [
       "title             xXx: The Return of Xander Cage\n",
       "studio                                     Zeit.\n",
       "domestic_gross                       936700000.0\n",
       "foreign_gross                        960500000.0\n",
       "year                                        2018\n",
       "Total_gross                         1518900000.0\n",
       "dtype: object"
      ]
     },
     "execution_count": 91,
     "metadata": {},
     "output_type": "execute_result"
    }
   ],
   "source": [
    "# Grouping by 'studio' and 'year', and summing 'domestic_gross' and 'foreign_gross'\n",
    "movie_gross.groupby(['studio'])['Total_gross']\n",
    "movie_gross.max()"
   ]
  },
  {
   "cell_type": "code",
   "execution_count": 92,
   "metadata": {},
   "outputs": [
    {
     "data": {
      "text/plain": [
       "studio\n",
       "BV              4.430294e+10\n",
       "WB              3.128625e+10\n",
       "Fox             3.109543e+10\n",
       "Uni.            2.989225e+10\n",
       "Sony            2.261367e+10\n",
       "                    ...     \n",
       "FOAK            1.243000e+05\n",
       "IVP             1.121000e+05\n",
       "Darin Southa    9.840000e+04\n",
       "ITL             5.290000e+04\n",
       "WOW             4.940000e+04\n",
       "Name: Total_gross, Length: 258, dtype: float64"
      ]
     },
     "execution_count": 92,
     "metadata": {},
     "output_type": "execute_result"
    }
   ],
   "source": [
    "# Group by 'studio' and calculate the sum of 'Total_gross' for each studio\n",
    "studio_total_gross = movie_gross.groupby(['studio'])['Total_gross'].sum().sort_values(ascending=False)\n",
    "studio_total_gross"
   ]
  },
  {
   "cell_type": "markdown",
   "metadata": {},
   "source": [
    "The studio with the highest average revenue is the BV whereas the studio with the lowest is WOW.Microsoft can conclude that BV studio have been successful in the market whereas WOW have not been successful hence the low earnings.This can be used as a measure of studio performance analysis and also inderstanding why BV studio are doing best to be the best player in the industry."
   ]
  },
  {
   "cell_type": "code",
   "execution_count": 96,
   "metadata": {},
   "outputs": [
    {
     "data": {
      "image/png": "[encoded data removed]",
      "text/plain": [
       "<Figure size 1200x600 with 1 Axes>"
      ]
     },
     "metadata": {},
     "output_type": "display_data"
    }
   ],
   "source": [
    "# Select the top 10 studios\n",
    "top_10_studios = studio_total_gross.head(10)\n",
    "\n",
    "# Creating a new figure and axis\n",
    "fig, ax = plt.subplots(figsize=(12, 6))\n",
    "\n",
    "# Plotting\n",
    "sns.barplot(x=top_10_studios.values, y=top_10_studios.index, palette='viridis', ax=ax)\n",
    "ax.set_title(\"Top 10 Studios by Total Gross Revenue\")\n",
    "ax.set_xlabel('Total Gross Revenue (in billions)')\n",
    "ax.set_ylabel('Studio')\n",
    "\n",
    "plt.show()"
   ]
  },
  {
   "cell_type": "markdown",
   "metadata": {},
   "source": [
    "**Best Performing Titles**"
   ]
  },
  {
   "cell_type": "code",
   "execution_count": 101,
   "metadata": {},
   "outputs": [
    {
     "data": {
      "text/html": [
       "<div>\n",
       "<style scoped>\n",
       "    .dataframe tbody tr th:only-of-type {\n",
       "        vertical-align: middle;\n",
       "    }\n",
       "\n",
       "    .dataframe tbody tr th {\n",
       "        vertical-align: top;\n",
       "    }\n",
       "\n",
       "    .dataframe thead th {\n",
       "        text-align: right;\n",
       "    }\n",
       "</style>\n",
       "<table border=\"1\" class=\"dataframe\">\n",
       "  <thead>\n",
       "    <tr style=\"text-align: right;\">\n",
       "      <th></th>\n",
       "      <th>title</th>\n",
       "      <th>studio</th>\n",
       "      <th>domestic_gross</th>\n",
       "      <th>foreign_gross</th>\n",
       "      <th>year</th>\n",
       "      <th>Total_gross</th>\n",
       "    </tr>\n",
       "  </thead>\n",
       "  <tbody>\n",
       "    <tr>\n",
       "      <th>0</th>\n",
       "      <td>Toy Story 3</td>\n",
       "      <td>BV</td>\n",
       "      <td>415000000.0</td>\n",
       "      <td>652000000.0</td>\n",
       "      <td>2010</td>\n",
       "      <td>1.067000e+09</td>\n",
       "    </tr>\n",
       "    <tr>\n",
       "      <th>1</th>\n",
       "      <td>Alice in Wonderland (2010)</td>\n",
       "      <td>BV</td>\n",
       "      <td>334200000.0</td>\n",
       "      <td>691300000.0</td>\n",
       "      <td>2010</td>\n",
       "      <td>1.025500e+09</td>\n",
       "    </tr>\n",
       "    <tr>\n",
       "      <th>2</th>\n",
       "      <td>Harry Potter and the Deathly Hallows Part 1</td>\n",
       "      <td>WB</td>\n",
       "      <td>296000000.0</td>\n",
       "      <td>664300000.0</td>\n",
       "      <td>2010</td>\n",
       "      <td>9.603000e+08</td>\n",
       "    </tr>\n",
       "    <tr>\n",
       "      <th>3</th>\n",
       "      <td>Inception</td>\n",
       "      <td>WB</td>\n",
       "      <td>292600000.0</td>\n",
       "      <td>535700000.0</td>\n",
       "      <td>2010</td>\n",
       "      <td>8.283000e+08</td>\n",
       "    </tr>\n",
       "    <tr>\n",
       "      <th>4</th>\n",
       "      <td>Shrek Forever After</td>\n",
       "      <td>P/DW</td>\n",
       "      <td>238700000.0</td>\n",
       "      <td>513900000.0</td>\n",
       "      <td>2010</td>\n",
       "      <td>7.526000e+08</td>\n",
       "    </tr>\n",
       "  </tbody>\n",
       "</table>\n",
       "</div>"
      ],
      "text/plain": [
       "                                         title studio  domestic_gross  \\\n",
       "0                                  Toy Story 3     BV     415000000.0   \n",
       "1                   Alice in Wonderland (2010)     BV     334200000.0   \n",
       "2  Harry Potter and the Deathly Hallows Part 1     WB     296000000.0   \n",
       "3                                    Inception     WB     292600000.0   \n",
       "4                          Shrek Forever After   P/DW     238700000.0   \n",
       "\n",
       "   foreign_gross  year   Total_gross  \n",
       "0    652000000.0  2010  1.067000e+09  \n",
       "1    691300000.0  2010  1.025500e+09  \n",
       "2    664300000.0  2010  9.603000e+08  \n",
       "3    535700000.0  2010  8.283000e+08  \n",
       "4    513900000.0  2010  7.526000e+08  "
      ]
     },
     "execution_count": 101,
     "metadata": {},
     "output_type": "execute_result"
    }
   ],
   "source": [
    "# Grouping by 'title' and summing 'domestic_gross' and 'foreign_gross'\n",
    "movie_gross.groupby(['title'])['Total_gross']\n",
    "movie_gross.head()"
   ]
  },
  {
   "cell_type": "code",
   "execution_count": 102,
   "metadata": {},
   "outputs": [
    {
     "data": {
      "image/png": "[encoded data removed]",
      "text/plain": [
       "<Figure size 1200x600 with 1 Axes>"
      ]
     },
     "metadata": {},
     "output_type": "display_data"
    }
   ],
   "source": [
    "# Group by 'title' and calculate the sum of 'Total_gross' for each studio\n",
    "title_total_gross = movie_gross.groupby(['title'])['Total_gross'].sum().sort_values(ascending=False)\n",
    "\n",
    "# Select the top 10 studios\n",
    "top_10_titles = title_total_gross.head(10)\n",
    "\n",
    "# Creating a new figure and axis\n",
    "fig, ax = plt.subplots(figsize=(12, 6))\n",
    "\n",
    "# Plotting\n",
    "sns.barplot(x=top_10_titles.values, y=top_10_titles.index, palette='plasma', ax=ax)\n",
    "ax.set_title(\"Top 10 Titles By Gross Revenue\")\n",
    "ax.set_xlabel('Gross Revenue')\n",
    "ax.set_ylabel('title')\n",
    "\n",
    "plt.show()"
   ]
  },
  {
   "cell_type": "code",
   "execution_count": 103,
   "metadata": {},
   "outputs": [
    {
     "data": {
      "text/plain": [
       "title                '71\n",
       "studio                3D\n",
       "domestic_gross     100.0\n",
       "foreign_gross      600.0\n",
       "year                2010\n",
       "Total_gross       4900.0\n",
       "dtype: object"
      ]
     },
     "execution_count": 103,
     "metadata": {},
     "output_type": "execute_result"
    }
   ],
   "source": [
    "movie_gross.groupby(['title'])['Total_gross']\n",
    "movie_gross.min()"
   ]
  },
  {
   "cell_type": "code",
   "execution_count": 104,
   "metadata": {},
   "outputs": [
    {
     "data": {
      "text/plain": [
       "title             xXx: The Return of Xander Cage\n",
       "studio                                     Zeit.\n",
       "domestic_gross                       936700000.0\n",
       "foreign_gross                        960500000.0\n",
       "year                                        2018\n",
       "Total_gross                         1518900000.0\n",
       "dtype: object"
      ]
     },
     "execution_count": 104,
     "metadata": {},
     "output_type": "execute_result"
    }
   ],
   "source": [
    "movie_gross.groupby(['title'])['Total_gross']\n",
    "movie_gross.max()"
   ]
  },
  {
   "cell_type": "markdown",
   "metadata": {},
   "source": [
    "**Run Minutes Per Genre**"
   ]
  },
  {
   "cell_type": "code",
   "execution_count": 105,
   "metadata": {},
   "outputs": [],
   "source": [
    "# Grouping by 'studio' and summing 'domestic_gross' and 'foreign_gross'\n",
    "#movie_gross.groupby(['studio'])['Total_gross']\n",
    "#movie_gross.head()"
   ]
  },
  {
   "cell_type": "code",
   "execution_count": 106,
   "metadata": {},
   "outputs": [
    {
     "data": {
      "text/html": [
       "<div>\n",
       "<style scoped>\n",
       "    .dataframe tbody tr th:only-of-type {\n",
       "        vertical-align: middle;\n",
       "    }\n",
       "\n",
       "    .dataframe tbody tr th {\n",
       "        vertical-align: top;\n",
       "    }\n",
       "\n",
       "    .dataframe thead th {\n",
       "        text-align: right;\n",
       "    }\n",
       "</style>\n",
       "<table border=\"1\" class=\"dataframe\">\n",
       "  <thead>\n",
       "    <tr style=\"text-align: right;\">\n",
       "      <th></th>\n",
       "      <th>start_year</th>\n",
       "      <th>runtime_minutes</th>\n",
       "      <th>averagerating</th>\n",
       "      <th>numvotes</th>\n",
       "    </tr>\n",
       "  </thead>\n",
       "  <tbody>\n",
       "    <tr>\n",
       "      <th>count</th>\n",
       "      <td>73856.000000</td>\n",
       "      <td>73856.000000</td>\n",
       "      <td>73856.000000</td>\n",
       "      <td>7.385600e+04</td>\n",
       "    </tr>\n",
       "    <tr>\n",
       "      <th>mean</th>\n",
       "      <td>2012.973137</td>\n",
       "      <td>83.451360</td>\n",
       "      <td>6.332729</td>\n",
       "      <td>3.523662e+03</td>\n",
       "    </tr>\n",
       "    <tr>\n",
       "      <th>std</th>\n",
       "      <td>2.382247</td>\n",
       "      <td>65.034231</td>\n",
       "      <td>1.474978</td>\n",
       "      <td>3.029402e+04</td>\n",
       "    </tr>\n",
       "    <tr>\n",
       "      <th>min</th>\n",
       "      <td>2010.000000</td>\n",
       "      <td>1.000000</td>\n",
       "      <td>1.000000</td>\n",
       "      <td>5.000000e+00</td>\n",
       "    </tr>\n",
       "    <tr>\n",
       "      <th>25%</th>\n",
       "      <td>2011.000000</td>\n",
       "      <td>67.469427</td>\n",
       "      <td>5.500000</td>\n",
       "      <td>1.400000e+01</td>\n",
       "    </tr>\n",
       "    <tr>\n",
       "      <th>50%</th>\n",
       "      <td>2013.000000</td>\n",
       "      <td>82.000000</td>\n",
       "      <td>6.500000</td>\n",
       "      <td>4.900000e+01</td>\n",
       "    </tr>\n",
       "    <tr>\n",
       "      <th>75%</th>\n",
       "      <td>2014.000000</td>\n",
       "      <td>96.000000</td>\n",
       "      <td>7.400000</td>\n",
       "      <td>2.820000e+02</td>\n",
       "    </tr>\n",
       "    <tr>\n",
       "      <th>max</th>\n",
       "      <td>2026.000000</td>\n",
       "      <td>14400.000000</td>\n",
       "      <td>10.000000</td>\n",
       "      <td>1.841066e+06</td>\n",
       "    </tr>\n",
       "  </tbody>\n",
       "</table>\n",
       "</div>"
      ],
      "text/plain": [
       "         start_year  runtime_minutes  averagerating      numvotes\n",
       "count  73856.000000     73856.000000   73856.000000  7.385600e+04\n",
       "mean    2012.973137        83.451360       6.332729  3.523662e+03\n",
       "std        2.382247        65.034231       1.474978  3.029402e+04\n",
       "min     2010.000000         1.000000       1.000000  5.000000e+00\n",
       "25%     2011.000000        67.469427       5.500000  1.400000e+01\n",
       "50%     2013.000000        82.000000       6.500000  4.900000e+01\n",
       "75%     2014.000000        96.000000       7.400000  2.820000e+02\n",
       "max     2026.000000     14400.000000      10.000000  1.841066e+06"
      ]
     },
     "execution_count": 106,
     "metadata": {},
     "output_type": "execute_result"
    }
   ],
   "source": [
    "combined_title_df.describe()"
   ]
  },
  {
   "cell_type": "code",
   "execution_count": 107,
   "metadata": {},
   "outputs": [
    {
     "data": {
      "text/html": [
       "<div>\n",
       "<style scoped>\n",
       "    .dataframe tbody tr th:only-of-type {\n",
       "        vertical-align: middle;\n",
       "    }\n",
       "\n",
       "    .dataframe tbody tr th {\n",
       "        vertical-align: top;\n",
       "    }\n",
       "\n",
       "    .dataframe thead th {\n",
       "        text-align: right;\n",
       "    }\n",
       "</style>\n",
       "<table border=\"1\" class=\"dataframe\">\n",
       "  <thead>\n",
       "    <tr style=\"text-align: right;\">\n",
       "      <th></th>\n",
       "      <th>tconst</th>\n",
       "      <th>primary_title</th>\n",
       "      <th>original_title</th>\n",
       "      <th>start_year</th>\n",
       "      <th>runtime_minutes</th>\n",
       "      <th>genres</th>\n",
       "      <th>tconst_ratings</th>\n",
       "      <th>averagerating</th>\n",
       "      <th>numvotes</th>\n",
       "      <th>title_comparison</th>\n",
       "    </tr>\n",
       "  </thead>\n",
       "  <tbody>\n",
       "    <tr>\n",
       "      <th>0</th>\n",
       "      <td>tt0063540</td>\n",
       "      <td>Sunghursh</td>\n",
       "      <td>Sunghursh</td>\n",
       "      <td>2013</td>\n",
       "      <td>175.0</td>\n",
       "      <td>Action,Crime,Drama</td>\n",
       "      <td>tt10356526</td>\n",
       "      <td>8.3</td>\n",
       "      <td>31</td>\n",
       "      <td>True</td>\n",
       "    </tr>\n",
       "    <tr>\n",
       "      <th>1</th>\n",
       "      <td>tt0066787</td>\n",
       "      <td>One Day Before the Rainy Season</td>\n",
       "      <td>Ashad Ka Ek Din</td>\n",
       "      <td>2019</td>\n",
       "      <td>114.0</td>\n",
       "      <td>Biography,Drama</td>\n",
       "      <td>tt10384606</td>\n",
       "      <td>8.9</td>\n",
       "      <td>559</td>\n",
       "      <td>False</td>\n",
       "    </tr>\n",
       "  </tbody>\n",
       "</table>\n",
       "</div>"
      ],
      "text/plain": [
       "      tconst                    primary_title   original_title  start_year  \\\n",
       "0  tt0063540                        Sunghursh        Sunghursh        2013   \n",
       "1  tt0066787  One Day Before the Rainy Season  Ashad Ka Ek Din        2019   \n",
       "\n",
       "   runtime_minutes              genres tconst_ratings  averagerating  \\\n",
       "0            175.0  Action,Crime,Drama     tt10356526            8.3   \n",
       "1            114.0     Biography,Drama     tt10384606            8.9   \n",
       "\n",
       "   numvotes  title_comparison  \n",
       "0        31              True  \n",
       "1       559             False  "
      ]
     },
     "execution_count": 107,
     "metadata": {},
     "output_type": "execute_result"
    }
   ],
   "source": [
    "combined_title_df.head(2)"
   ]
  },
  {
   "cell_type": "code",
   "execution_count": 108,
   "metadata": {
    "scrolled": false
   },
   "outputs": [
    {
     "data": {
      "text/plain": [
       "73856"
      ]
     },
     "execution_count": 108,
     "metadata": {},
     "output_type": "execute_result"
    }
   ],
   "source": [
    "combined_title_df['genres'].count()"
   ]
  },
  {
   "cell_type": "markdown",
   "metadata": {},
   "source": [
    "## Movie Runtime Through The Years"
   ]
  },
  {
   "cell_type": "markdown",
   "metadata": {},
   "source": [
    "We would like to recommendation for how long Microsoft's film should be. We looked at the runtime of movies through the start year to find an ideal length."
   ]
  },
  {
   "cell_type": "code",
   "execution_count": 109,
   "metadata": {},
   "outputs": [
    {
     "data": {
      "image/png": "[encoded data removed]",
      "text/plain": [
       "<Figure size 1500x500 with 1 Axes>"
      ]
     },
     "metadata": {},
     "output_type": "display_data"
    }
   ],
   "source": [
    "fig = plt.figure(figsize = (15,5))\n",
    "                 \n",
    "# Create a line plot to visualize runtime through the decades                 \n",
    "g = sns.lineplot(x='start_year', y='runtime_minutes', errorbar=None, data=combined_title_df, lw=1)\n",
    "#Set plot title and axis labels                 \n",
    "g.set(title = 'Runtime through the Years', \n",
    "           ylabel = \"Runtime (minutes)\", \n",
    "           xlabel = \"Year\")\n",
    "plt.tight_layout()\n",
    "fig.savefig(\"Runtime_decades.png\")\n",
    "plt.show()"
   ]
  },
  {
   "cell_type": "code",
   "execution_count": 110,
   "metadata": {},
   "outputs": [
    {
     "data": {
      "text/html": [
       "<div>\n",
       "<style scoped>\n",
       "    .dataframe tbody tr th:only-of-type {\n",
       "        vertical-align: middle;\n",
       "    }\n",
       "\n",
       "    .dataframe tbody tr th {\n",
       "        vertical-align: top;\n",
       "    }\n",
       "\n",
       "    .dataframe thead th {\n",
       "        text-align: right;\n",
       "    }\n",
       "</style>\n",
       "<table border=\"1\" class=\"dataframe\">\n",
       "  <thead>\n",
       "    <tr style=\"text-align: right;\">\n",
       "      <th></th>\n",
       "      <th>genres</th>\n",
       "      <th>averagerating</th>\n",
       "    </tr>\n",
       "  </thead>\n",
       "  <tbody>\n",
       "    <tr>\n",
       "      <th>0</th>\n",
       "      <td>Action</td>\n",
       "      <td>6.342155</td>\n",
       "    </tr>\n",
       "    <tr>\n",
       "      <th>1</th>\n",
       "      <td>Action,Adventure</td>\n",
       "      <td>6.356452</td>\n",
       "    </tr>\n",
       "    <tr>\n",
       "      <th>2</th>\n",
       "      <td>Action,Adventure,Animation</td>\n",
       "      <td>6.346465</td>\n",
       "    </tr>\n",
       "    <tr>\n",
       "      <th>3</th>\n",
       "      <td>Action,Adventure,Biography</td>\n",
       "      <td>6.489474</td>\n",
       "    </tr>\n",
       "    <tr>\n",
       "      <th>4</th>\n",
       "      <td>Action,Adventure,Comedy</td>\n",
       "      <td>6.394737</td>\n",
       "    </tr>\n",
       "  </tbody>\n",
       "</table>\n",
       "</div>"
      ],
      "text/plain": [
       "                       genres  averagerating\n",
       "0                      Action       6.342155\n",
       "1            Action,Adventure       6.356452\n",
       "2  Action,Adventure,Animation       6.346465\n",
       "3  Action,Adventure,Biography       6.489474\n",
       "4     Action,Adventure,Comedy       6.394737"
      ]
     },
     "execution_count": 110,
     "metadata": {},
     "output_type": "execute_result"
    }
   ],
   "source": [
    "#Grouping by genres\n",
    "genre_ratings = combined_title_df.groupby('genres')['averagerating'].mean().reset_index()\n",
    "genre_ratings.head()"
   ]
  },
  {
   "cell_type": "code",
   "execution_count": 111,
   "metadata": {},
   "outputs": [
    {
     "name": "stdout",
     "output_type": "stream",
     "text": [
      "The best genre is Animation,Mystery,Thriller with an average rating of 9.20\n"
     ]
    }
   ],
   "source": [
    "#genre with the highest averagerating\n",
    "best_genre = genre_ratings.sort_values(by='averagerating', ascending=False).iloc[0]\n",
    "print(f\"The best genre is {best_genre['genres']} with an average rating of {best_genre['averagerating']:.2f}\")"
   ]
  },
  {
   "cell_type": "code",
   "execution_count": 125,
   "metadata": {},
   "outputs": [
    {
     "data": {
      "text/html": [
       "<div>\n",
       "<style scoped>\n",
       "    .dataframe tbody tr th:only-of-type {\n",
       "        vertical-align: middle;\n",
       "    }\n",
       "\n",
       "    .dataframe tbody tr th {\n",
       "        vertical-align: top;\n",
       "    }\n",
       "\n",
       "    .dataframe thead th {\n",
       "        text-align: right;\n",
       "    }\n",
       "</style>\n",
       "<table border=\"1\" class=\"dataframe\">\n",
       "  <thead>\n",
       "    <tr style=\"text-align: right;\">\n",
       "      <th></th>\n",
       "      <th>genres</th>\n",
       "      <th>averagerating</th>\n",
       "    </tr>\n",
       "  </thead>\n",
       "  <tbody>\n",
       "    <tr>\n",
       "      <th>358</th>\n",
       "      <td>Animation,Mystery,Thriller</td>\n",
       "      <td>9.2</td>\n",
       "    </tr>\n",
       "    <tr>\n",
       "      <th>275</th>\n",
       "      <td>Adventure,Romance,Sport</td>\n",
       "      <td>9.0</td>\n",
       "    </tr>\n",
       "    <tr>\n",
       "      <th>352</th>\n",
       "      <td>Animation,Music,Romance</td>\n",
       "      <td>8.9</td>\n",
       "    </tr>\n",
       "    <tr>\n",
       "      <th>804</th>\n",
       "      <td>Family,Fantasy,Horror</td>\n",
       "      <td>8.8</td>\n",
       "    </tr>\n",
       "    <tr>\n",
       "      <th>549</th>\n",
       "      <td>Comedy,Sci-Fi,Western</td>\n",
       "      <td>8.7</td>\n",
       "    </tr>\n",
       "    <tr>\n",
       "      <th>...</th>\n",
       "      <td>...</td>\n",
       "      <td>...</td>\n",
       "    </tr>\n",
       "    <tr>\n",
       "      <th>122</th>\n",
       "      <td>Action,Horror,Music</td>\n",
       "      <td>3.2</td>\n",
       "    </tr>\n",
       "    <tr>\n",
       "      <th>30</th>\n",
       "      <td>Action,Animation,Music</td>\n",
       "      <td>3.2</td>\n",
       "    </tr>\n",
       "    <tr>\n",
       "      <th>420</th>\n",
       "      <td>Biography,Fantasy,Horror</td>\n",
       "      <td>3.1</td>\n",
       "    </tr>\n",
       "    <tr>\n",
       "      <th>465</th>\n",
       "      <td>Comedy,Documentary,Sci-Fi</td>\n",
       "      <td>3.0</td>\n",
       "    </tr>\n",
       "    <tr>\n",
       "      <th>329</th>\n",
       "      <td>Animation,Family,Music</td>\n",
       "      <td>2.9</td>\n",
       "    </tr>\n",
       "  </tbody>\n",
       "</table>\n",
       "<p>947 rows × 2 columns</p>\n",
       "</div>"
      ],
      "text/plain": [
       "                         genres  averagerating\n",
       "358  Animation,Mystery,Thriller            9.2\n",
       "275     Adventure,Romance,Sport            9.0\n",
       "352     Animation,Music,Romance            8.9\n",
       "804       Family,Fantasy,Horror            8.8\n",
       "549       Comedy,Sci-Fi,Western            8.7\n",
       "..                          ...            ...\n",
       "122         Action,Horror,Music            3.2\n",
       "30       Action,Animation,Music            3.2\n",
       "420    Biography,Fantasy,Horror            3.1\n",
       "465   Comedy,Documentary,Sci-Fi            3.0\n",
       "329      Animation,Family,Music            2.9\n",
       "\n",
       "[947 rows x 2 columns]"
      ]
     },
     "execution_count": 125,
     "metadata": {},
     "output_type": "execute_result"
    }
   ],
   "source": [
    "# Sort the DataFrame by average rating\n",
    "best_genre = genre_ratings.sort_values(by='averagerating', ascending=False)\n",
    "best_genre"
   ]
  },
  {
   "cell_type": "code",
   "execution_count": 135,
   "metadata": {},
   "outputs": [
    {
     "data": {
      "text/html": [
       "<div>\n",
       "<style scoped>\n",
       "    .dataframe tbody tr th:only-of-type {\n",
       "        vertical-align: middle;\n",
       "    }\n",
       "\n",
       "    .dataframe tbody tr th {\n",
       "        vertical-align: top;\n",
       "    }\n",
       "\n",
       "    .dataframe thead th {\n",
       "        text-align: right;\n",
       "    }\n",
       "</style>\n",
       "<table border=\"1\" class=\"dataframe\">\n",
       "  <thead>\n",
       "    <tr style=\"text-align: right;\">\n",
       "      <th></th>\n",
       "      <th>genres</th>\n",
       "      <th>averagerating</th>\n",
       "    </tr>\n",
       "  </thead>\n",
       "  <tbody>\n",
       "    <tr>\n",
       "      <th>358</th>\n",
       "      <td>Animation,Mystery,Thriller</td>\n",
       "      <td>9.2</td>\n",
       "    </tr>\n",
       "    <tr>\n",
       "      <th>275</th>\n",
       "      <td>Adventure,Romance,Sport</td>\n",
       "      <td>9.0</td>\n",
       "    </tr>\n",
       "    <tr>\n",
       "      <th>352</th>\n",
       "      <td>Animation,Music,Romance</td>\n",
       "      <td>8.9</td>\n",
       "    </tr>\n",
       "    <tr>\n",
       "      <th>804</th>\n",
       "      <td>Family,Fantasy,Horror</td>\n",
       "      <td>8.8</td>\n",
       "    </tr>\n",
       "    <tr>\n",
       "      <th>549</th>\n",
       "      <td>Comedy,Sci-Fi,Western</td>\n",
       "      <td>8.7</td>\n",
       "    </tr>\n",
       "    <tr>\n",
       "      <th>225</th>\n",
       "      <td>Adventure,Drama,Musical</td>\n",
       "      <td>8.5</td>\n",
       "    </tr>\n",
       "    <tr>\n",
       "      <th>591</th>\n",
       "      <td>Crime,History,Horror</td>\n",
       "      <td>8.5</td>\n",
       "    </tr>\n",
       "    <tr>\n",
       "      <th>215</th>\n",
       "      <td>Adventure,Documentary,Sci-Fi</td>\n",
       "      <td>8.4</td>\n",
       "    </tr>\n",
       "    <tr>\n",
       "      <th>343</th>\n",
       "      <td>Animation,History,Musical</td>\n",
       "      <td>8.4</td>\n",
       "    </tr>\n",
       "    <tr>\n",
       "      <th>325</th>\n",
       "      <td>Animation,Drama,War</td>\n",
       "      <td>8.3</td>\n",
       "    </tr>\n",
       "  </tbody>\n",
       "</table>\n",
       "</div>"
      ],
      "text/plain": [
       "                           genres  averagerating\n",
       "358    Animation,Mystery,Thriller            9.2\n",
       "275       Adventure,Romance,Sport            9.0\n",
       "352       Animation,Music,Romance            8.9\n",
       "804         Family,Fantasy,Horror            8.8\n",
       "549         Comedy,Sci-Fi,Western            8.7\n",
       "225       Adventure,Drama,Musical            8.5\n",
       "591          Crime,History,Horror            8.5\n",
       "215  Adventure,Documentary,Sci-Fi            8.4\n",
       "343     Animation,History,Musical            8.4\n",
       "325           Animation,Drama,War            8.3"
      ]
     },
     "execution_count": 135,
     "metadata": {},
     "output_type": "execute_result"
    }
   ],
   "source": [
    "top10_genre = best_genre.head(10)\n",
    "top10_genre"
   ]
  },
  {
   "cell_type": "code",
   "execution_count": 136,
   "metadata": {},
   "outputs": [
    {
     "data": {
      "image/png": "[encoded data removed]",
      "text/plain": [
       "<Figure size 1000x600 with 1 Axes>"
      ]
     },
     "metadata": {},
     "output_type": "display_data"
    }
   ],
   "source": [
    "# Sort the DataFrame by average rating\n",
    "best_genre = genre_ratings.sort_values(by='averagerating', ascending=False)\n",
    "\n",
    "top10_genre = best_genre.head(10)\n",
    "\n",
    "# Plotting the top 10 genres\n",
    "plt.figure(figsize=(10, 6))\n",
    "plt.bar(top10_genre['genres'], top10_genre['averagerating'], color='skyblue')\n",
    "plt.xlabel('Genre')\n",
    "plt.ylabel('Average Rating')\n",
    "plt.title = ('Top 10 Genre by Average Rating')\n",
    "plt.xticks(rotation=45, ha='right')  # Rotate x-axis labels for better readability\n",
    "plt.show()\n"
   ]
  },
  {
   "cell_type": "markdown",
   "metadata": {},
   "source": [
    "## Best Genre Combinations"
   ]
  },
  {
   "cell_type": "code",
   "execution_count": 138,
   "metadata": {},
   "outputs": [
    {
     "name": "stdout",
     "output_type": "stream",
     "text": [
      "The best genre combination is Talk-Show with an average rating of 6.42\n"
     ]
    }
   ],
   "source": [
    "# Split the genres into a list\n",
    "combined_title_df['genres'] = combined_title_df['genres'].str.split(',')\n",
    "\n",
    "# Explode the DataFrame to create one row per genre in each title\n",
    "exploded_df = combined_title_df.explode('genres')\n",
    "\n",
    "# Group by the 'genres' column and calculate the average rating\n",
    "genre_ratings = exploded_df.groupby('genres')['averagerating'].mean().reset_index()\n",
    "\n",
    "#to find the genre combination with the highest average rating. \n",
    "#This will tell you which combination of genres tends to have the best ratings.\n",
    "best_genre_combination = genre_ratings.sort_values(by='averagerating', ascending=False).iloc[0]\n",
    "\n",
    "#print the best genre combination and its average rating\n",
    "print(f\"The best genre combination is {best_genre_combination['genres']} with an average rating of {best_genre_combination['averagerating']:.2f}\")"
   ]
  },
  {
   "cell_type": "code",
   "execution_count": 143,
   "metadata": {},
   "outputs": [
    {
     "data": {
      "text/html": [
       "<div>\n",
       "<style scoped>\n",
       "    .dataframe tbody tr th:only-of-type {\n",
       "        vertical-align: middle;\n",
       "    }\n",
       "\n",
       "    .dataframe tbody tr th {\n",
       "        vertical-align: top;\n",
       "    }\n",
       "\n",
       "    .dataframe thead th {\n",
       "        text-align: right;\n",
       "    }\n",
       "</style>\n",
       "<table border=\"1\" class=\"dataframe\">\n",
       "  <thead>\n",
       "    <tr style=\"text-align: right;\">\n",
       "      <th></th>\n",
       "      <th>genres</th>\n",
       "      <th>averagerating</th>\n",
       "    </tr>\n",
       "  </thead>\n",
       "  <tbody>\n",
       "    <tr>\n",
       "      <th>24</th>\n",
       "      <td>Talk-Show</td>\n",
       "      <td>6.425000</td>\n",
       "    </tr>\n",
       "    <tr>\n",
       "      <th>27</th>\n",
       "      <td>Western</td>\n",
       "      <td>6.391852</td>\n",
       "    </tr>\n",
       "  </tbody>\n",
       "</table>\n",
       "</div>"
      ],
      "text/plain": [
       "       genres  averagerating\n",
       "24  Talk-Show       6.425000\n",
       "27    Western       6.391852"
      ]
     },
     "execution_count": 143,
     "metadata": {},
     "output_type": "execute_result"
    }
   ],
   "source": [
    "best_genre_combination.head(2)"
   ]
  },
  {
   "cell_type": "code",
   "execution_count": 144,
   "metadata": {},
   "outputs": [
    {
     "data": {
      "image/png": "[encoded data removed]",
      "text/plain": [
       "<Figure size 1000x600 with 1 Axes>"
      ]
     },
     "metadata": {},
     "output_type": "display_data"
    }
   ],
   "source": [
    "best_genre_combination = genre_ratings.sort_values(by='averagerating', ascending=False)\n",
    "\n",
    "top10_genrecombo = best_genre_combination.head(7)\n",
    "\n",
    "# Plotting the top 7 genre combinations\n",
    "plt.figure(figsize=(10, 6))\n",
    "plt.bar(top10_genrecombo['genres'], top10_genrecombo['averagerating'], color='skyblue')\n",
    "plt.xlabel('Genre')\n",
    "plt.ylabel('Average Rating')\n",
    "plt.title = ('Top 10 Genre by Average Rating')\n",
    "plt.xticks(rotation=45, ha='right')  # Rotate x-axis labels for better readability\n",
    "plt.show()\n",
    "\n"
   ]
  },
  {
   "cell_type": "code",
   "execution_count": 146,
   "metadata": {},
   "outputs": [
    {
     "data": {
      "image/png": "[encoded data removed]",
      "text/plain": [
       "<Figure size 1000x600 with 1 Axes>"
      ]
     },
     "metadata": {},
     "output_type": "display_data"
    }
   ],
   "source": [
    "# Assuming you have already defined genre_ratings\n",
    "best_genre_combination = genre_ratings.sort_values(by='averagerating', ascending=False)\n",
    "\n",
    "top10_genrecombo = best_genre_combination.head(7)\n",
    "\n",
    "# Plotting a line plot for the top 7 genre combinations\n",
    "plt.figure(figsize=(10, 6))\n",
    "plt.plot(top10_genrecombo['genres'], top10_genrecombo['averagerating'], marker='o', color='orange', linestyle='-')\n",
    "plt.xlabel('Genre')\n",
    "plt.ylabel('Average Rating')\n",
    "plt.title = ('Top 7 Genre Combinations by Average Rating')\n",
    "plt.xticks(rotation=45, ha='right')  # Rotate x-axis labels for better readability\n",
    "plt.grid(True)  # Add grid for better visualization\n",
    "plt.show()\n"
   ]
  },
  {
   "cell_type": "code",
   "execution_count": null,
   "metadata": {},
   "outputs": [],
   "source": []
  }
 ],
 "metadata": {
  "kernelspec": {
   "display_name": "Python (learn-env)",
   "language": "python",
   "name": "learn-env"
  },
  "language_info": {
   "codemirror_mode": {
    "name": "ipython",
    "version": 3
   },
   "file_extension": ".py",
   "mimetype": "text/x-python",
   "name": "python",
   "nbconvert_exporter": "python",
   "pygments_lexer": "ipython3",
   "version": "3.11.4"
  }
 },
 "nbformat": 4,
 "nbformat_minor": 2
}
